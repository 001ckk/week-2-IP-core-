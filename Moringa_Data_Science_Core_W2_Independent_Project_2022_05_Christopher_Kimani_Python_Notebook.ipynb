{
  "nbformat": 4,
  "nbformat_minor": 0,
  "metadata": {
    "colab": {
      "name": "Moringa_Data_Science_Core_W2_Independent_Project_2022_05_Christopher_Kimani_Python_Notebook",
      "provenance": [],
      "authorship_tag": "ABX9TyMvauEPCXD5E2G1bCp9koE1",
      "include_colab_link": true
    },
    "kernelspec": {
      "name": "python3",
      "display_name": "Python 3"
    },
    "language_info": {
      "name": "python"
    }
  },
  "cells": [
    {
      "cell_type": "markdown",
      "metadata": {
        "id": "view-in-github",
        "colab_type": "text"
      },
      "source": [
        "<a href=\"https://colab.research.google.com/github/001ckk/week-2-IP-core-/blob/main/Moringa_Data_Science_Core_W2_Independent_Project_2022_05_Christopher_Kimani_Python_Notebook.ipynb\" target=\"_parent\"><img src=\"https://colab.research.google.com/assets/colab-badge.svg\" alt=\"Open In Colab\"/></a>"
      ]
    },
    {
      "cell_type": "markdown",
      "source": [
        "**BANK ACCESIBILITY IN EAST AFRICA.**"
      ],
      "metadata": {
        "id": "mehgh7Sce8yX"
      }
    },
    {
      "cell_type": "markdown",
      "source": [
        "**Data Analytic's Question**\n",
        "\n",
        "Predicting which individuals are most likely to have bank accounts."
      ],
      "metadata": {
        "id": "fJ-xb8v3g5FR"
      }
    },
    {
      "cell_type": "markdown",
      "source": [
        "**Metrics for success.**\n",
        "\n",
        "1. Perform univariate, bivariate and multivariate analysis recording your observations.\n",
        "2. Performing the Linear Discriminant Analysis.\n",
        "3. Challenge the solution and providing insights on improvement of the analysis."
      ],
      "metadata": {
        "id": "B-OX1-1XhUwK"
      }
    },
    {
      "cell_type": "markdown",
      "source": [
        "**Context**\n",
        "\n",
        "Financial inclusion remains one of the major hinderances to economic and human development in Africa.\n",
        "Very few adults have access to or use a commercial bank account.\n",
        "Access to a bank account is considered an indicator to financial inclusion. Despite the penetration of mobile money in African countries, banks still play a vital role in facilitating access to financial services.\n",
        "Access to a bank account enables households to facilitate payments while also helping creade a credit worthiness and increased access to other financial services.\n",
        "Access to a bank account is essential long-term to economic growth.\n",
        "\n",
        "Our aim is to target find out which persons are most likely to have or use a bank account and thus assist provide insight on and how to improve this financial inclusion."
      ],
      "metadata": {
        "id": "43Ca1ZGwmBbm"
      }
    },
    {
      "cell_type": "markdown",
      "source": [
        "**Experimental Design.**\n",
        "\n",
        "1. Define research question\n",
        "\n",
        "2. Data Exploration\n",
        "\n",
        "3. Univariate analysis\n",
        "\n",
        "4. Bivariate Analysis\n",
        "\n",
        "5. Multivariate Analysis\n",
        "\n",
        "6. Summary of Findings\n",
        "\n",
        "7. Challenging the solution"
      ],
      "metadata": {
        "id": "bneiHBLhlyhw"
      }
    },
    {
      "cell_type": "markdown",
      "source": [
        "**Data Relevance**\n",
        "\n",
        "The following data sets were provided. The data shows the financial services mostly used in East Africa. It was extracted from Finscope surveys between 2016 to 2018.\n",
        "\n",
        "FinAccess Kenya 2018: https://fsdkenya.org/publication/finaccess2019/\n",
        "\n",
        "Finscope Rwanda 2016: http://www.statistics.gov.rw/publication/finscope-rwanda-2016\n",
        "\n",
        "Finscope Tanzania 2017: http://www.fsdt.or.tz/finscope/\n",
        "\n",
        "Finscope Uganda 2018: http://fsduganda.or.ug/finscope-2018-survey-report/\n",
        "\n",
        "And for the data, here it is and its variable deinitions:\n",
        "\n",
        "Variable Definitions: http://bit.ly/VariableDefinitions\n",
        "\n",
        "Dataset: http://bit.ly/FinancialDataset\n"
      ],
      "metadata": {
        "id": "HGnIjuuQmkXF"
      }
    },
    {
      "cell_type": "markdown",
      "source": [
        "**Importing Libraries.**"
      ],
      "metadata": {
        "id": "G039m5oomU4q"
      }
    },
    {
      "cell_type": "code",
      "source": [
        "#importing Python libraries or use in analysis\n",
        "import pandas as pd\n",
        "import numpy as np\n",
        "import seaborn as sns\n",
        "import matplotlib.pyplot as plt\n",
        "import sklearn as sk\n",
        "import pandas_profiling as pp\n",
        "from sklearn import model_selection\n",
        "from sklearn.metrics import r2_score\n",
        "from sklearn.model_selection import train_test_split\n",
        "import statsmodels.api as sm\n",
        "from sklearn.metrics import confusion_matrix\n",
        "from sklearn.metrics import accuracy_score, classification_report, roc_auc_score\n",
        "import warnings\n",
        "from sklearn.discriminant_analysis import LinearDiscriminantAnalysis as LDA\n",
        "from sklearn.ensemble import RandomForestClassifier, GradientBoostingClassifier\n"
      ],
      "metadata": {
        "id": "wZwIZYaGom_A"
      },
      "execution_count": 97,
      "outputs": []
    },
    {
      "cell_type": "markdown",
      "source": [
        "**Data Loading and Confirmation**"
      ],
      "metadata": {
        "id": "CMfCRYMQsqhW"
      }
    },
    {
      "cell_type": "code",
      "source": [
        "# Loading the Data from the source.\n",
        "# Financial Dataset url: http://bit.ly/FinancialDataset\n",
        "\n",
        "finance_ds = pd.read_csv('http://bit.ly/FinancialDataset')\n",
        "finance_ds.head()"
      ],
      "metadata": {
        "id": "pwvjMX6Yoy6x",
        "colab": {
          "base_uri": "https://localhost:8080/",
          "height": 354
        },
        "outputId": "cc1a3317-6313-444e-fabc-41e0e514194a"
      },
      "execution_count": 98,
      "outputs": [
        {
          "output_type": "execute_result",
          "data": {
            "text/plain": [
              "  country  year    uniqueid Has a Bank account Type of Location  \\\n",
              "0   Kenya  2018  uniqueid_1                Yes            Rural   \n",
              "1   Kenya  2018  uniqueid_2                 No            Rural   \n",
              "2   Kenya  2018  uniqueid_3                Yes            Urban   \n",
              "3   Kenya  2018  uniqueid_4                 No            Rural   \n",
              "4   Kenya  2018  uniqueid_5                 No            Urban   \n",
              "\n",
              "  Cell Phone Access  household_size  Respondent Age gender_of_respondent  \\\n",
              "0               Yes             3.0            24.0               Female   \n",
              "1                No             5.0            70.0               Female   \n",
              "2               Yes             5.0            26.0                 Male   \n",
              "3               Yes             5.0            34.0               Female   \n",
              "4                No             8.0            26.0                 Male   \n",
              "\n",
              "  The relathip with head           marital_status  \\\n",
              "0                 Spouse  Married/Living together   \n",
              "1      Head of Household                  Widowed   \n",
              "2         Other relative     Single/Never Married   \n",
              "3      Head of Household  Married/Living together   \n",
              "4                  Child     Single/Never Married   \n",
              "\n",
              "               Level of Educuation                Type of Job  \n",
              "0              Secondary education              Self employed  \n",
              "1              No formal education       Government Dependent  \n",
              "2  Vocational/Specialised training              Self employed  \n",
              "3                Primary education  Formally employed Private  \n",
              "4                Primary education        Informally employed  "
            ],
            "text/html": [
              "\n",
              "  <div id=\"df-9a18a77e-8834-47cc-9f4e-a0b424b9e92b\">\n",
              "    <div class=\"colab-df-container\">\n",
              "      <div>\n",
              "<style scoped>\n",
              "    .dataframe tbody tr th:only-of-type {\n",
              "        vertical-align: middle;\n",
              "    }\n",
              "\n",
              "    .dataframe tbody tr th {\n",
              "        vertical-align: top;\n",
              "    }\n",
              "\n",
              "    .dataframe thead th {\n",
              "        text-align: right;\n",
              "    }\n",
              "</style>\n",
              "<table border=\"1\" class=\"dataframe\">\n",
              "  <thead>\n",
              "    <tr style=\"text-align: right;\">\n",
              "      <th></th>\n",
              "      <th>country</th>\n",
              "      <th>year</th>\n",
              "      <th>uniqueid</th>\n",
              "      <th>Has a Bank account</th>\n",
              "      <th>Type of Location</th>\n",
              "      <th>Cell Phone Access</th>\n",
              "      <th>household_size</th>\n",
              "      <th>Respondent Age</th>\n",
              "      <th>gender_of_respondent</th>\n",
              "      <th>The relathip with head</th>\n",
              "      <th>marital_status</th>\n",
              "      <th>Level of Educuation</th>\n",
              "      <th>Type of Job</th>\n",
              "    </tr>\n",
              "  </thead>\n",
              "  <tbody>\n",
              "    <tr>\n",
              "      <th>0</th>\n",
              "      <td>Kenya</td>\n",
              "      <td>2018</td>\n",
              "      <td>uniqueid_1</td>\n",
              "      <td>Yes</td>\n",
              "      <td>Rural</td>\n",
              "      <td>Yes</td>\n",
              "      <td>3.0</td>\n",
              "      <td>24.0</td>\n",
              "      <td>Female</td>\n",
              "      <td>Spouse</td>\n",
              "      <td>Married/Living together</td>\n",
              "      <td>Secondary education</td>\n",
              "      <td>Self employed</td>\n",
              "    </tr>\n",
              "    <tr>\n",
              "      <th>1</th>\n",
              "      <td>Kenya</td>\n",
              "      <td>2018</td>\n",
              "      <td>uniqueid_2</td>\n",
              "      <td>No</td>\n",
              "      <td>Rural</td>\n",
              "      <td>No</td>\n",
              "      <td>5.0</td>\n",
              "      <td>70.0</td>\n",
              "      <td>Female</td>\n",
              "      <td>Head of Household</td>\n",
              "      <td>Widowed</td>\n",
              "      <td>No formal education</td>\n",
              "      <td>Government Dependent</td>\n",
              "    </tr>\n",
              "    <tr>\n",
              "      <th>2</th>\n",
              "      <td>Kenya</td>\n",
              "      <td>2018</td>\n",
              "      <td>uniqueid_3</td>\n",
              "      <td>Yes</td>\n",
              "      <td>Urban</td>\n",
              "      <td>Yes</td>\n",
              "      <td>5.0</td>\n",
              "      <td>26.0</td>\n",
              "      <td>Male</td>\n",
              "      <td>Other relative</td>\n",
              "      <td>Single/Never Married</td>\n",
              "      <td>Vocational/Specialised training</td>\n",
              "      <td>Self employed</td>\n",
              "    </tr>\n",
              "    <tr>\n",
              "      <th>3</th>\n",
              "      <td>Kenya</td>\n",
              "      <td>2018</td>\n",
              "      <td>uniqueid_4</td>\n",
              "      <td>No</td>\n",
              "      <td>Rural</td>\n",
              "      <td>Yes</td>\n",
              "      <td>5.0</td>\n",
              "      <td>34.0</td>\n",
              "      <td>Female</td>\n",
              "      <td>Head of Household</td>\n",
              "      <td>Married/Living together</td>\n",
              "      <td>Primary education</td>\n",
              "      <td>Formally employed Private</td>\n",
              "    </tr>\n",
              "    <tr>\n",
              "      <th>4</th>\n",
              "      <td>Kenya</td>\n",
              "      <td>2018</td>\n",
              "      <td>uniqueid_5</td>\n",
              "      <td>No</td>\n",
              "      <td>Urban</td>\n",
              "      <td>No</td>\n",
              "      <td>8.0</td>\n",
              "      <td>26.0</td>\n",
              "      <td>Male</td>\n",
              "      <td>Child</td>\n",
              "      <td>Single/Never Married</td>\n",
              "      <td>Primary education</td>\n",
              "      <td>Informally employed</td>\n",
              "    </tr>\n",
              "  </tbody>\n",
              "</table>\n",
              "</div>\n",
              "      <button class=\"colab-df-convert\" onclick=\"convertToInteractive('df-9a18a77e-8834-47cc-9f4e-a0b424b9e92b')\"\n",
              "              title=\"Convert this dataframe to an interactive table.\"\n",
              "              style=\"display:none;\">\n",
              "        \n",
              "  <svg xmlns=\"http://www.w3.org/2000/svg\" height=\"24px\"viewBox=\"0 0 24 24\"\n",
              "       width=\"24px\">\n",
              "    <path d=\"M0 0h24v24H0V0z\" fill=\"none\"/>\n",
              "    <path d=\"M18.56 5.44l.94 2.06.94-2.06 2.06-.94-2.06-.94-.94-2.06-.94 2.06-2.06.94zm-11 1L8.5 8.5l.94-2.06 2.06-.94-2.06-.94L8.5 2.5l-.94 2.06-2.06.94zm10 10l.94 2.06.94-2.06 2.06-.94-2.06-.94-.94-2.06-.94 2.06-2.06.94z\"/><path d=\"M17.41 7.96l-1.37-1.37c-.4-.4-.92-.59-1.43-.59-.52 0-1.04.2-1.43.59L10.3 9.45l-7.72 7.72c-.78.78-.78 2.05 0 2.83L4 21.41c.39.39.9.59 1.41.59.51 0 1.02-.2 1.41-.59l7.78-7.78 2.81-2.81c.8-.78.8-2.07 0-2.86zM5.41 20L4 18.59l7.72-7.72 1.47 1.35L5.41 20z\"/>\n",
              "  </svg>\n",
              "      </button>\n",
              "      \n",
              "  <style>\n",
              "    .colab-df-container {\n",
              "      display:flex;\n",
              "      flex-wrap:wrap;\n",
              "      gap: 12px;\n",
              "    }\n",
              "\n",
              "    .colab-df-convert {\n",
              "      background-color: #E8F0FE;\n",
              "      border: none;\n",
              "      border-radius: 50%;\n",
              "      cursor: pointer;\n",
              "      display: none;\n",
              "      fill: #1967D2;\n",
              "      height: 32px;\n",
              "      padding: 0 0 0 0;\n",
              "      width: 32px;\n",
              "    }\n",
              "\n",
              "    .colab-df-convert:hover {\n",
              "      background-color: #E2EBFA;\n",
              "      box-shadow: 0px 1px 2px rgba(60, 64, 67, 0.3), 0px 1px 3px 1px rgba(60, 64, 67, 0.15);\n",
              "      fill: #174EA6;\n",
              "    }\n",
              "\n",
              "    [theme=dark] .colab-df-convert {\n",
              "      background-color: #3B4455;\n",
              "      fill: #D2E3FC;\n",
              "    }\n",
              "\n",
              "    [theme=dark] .colab-df-convert:hover {\n",
              "      background-color: #434B5C;\n",
              "      box-shadow: 0px 1px 3px 1px rgba(0, 0, 0, 0.15);\n",
              "      filter: drop-shadow(0px 1px 2px rgba(0, 0, 0, 0.3));\n",
              "      fill: #FFFFFF;\n",
              "    }\n",
              "  </style>\n",
              "\n",
              "      <script>\n",
              "        const buttonEl =\n",
              "          document.querySelector('#df-9a18a77e-8834-47cc-9f4e-a0b424b9e92b button.colab-df-convert');\n",
              "        buttonEl.style.display =\n",
              "          google.colab.kernel.accessAllowed ? 'block' : 'none';\n",
              "\n",
              "        async function convertToInteractive(key) {\n",
              "          const element = document.querySelector('#df-9a18a77e-8834-47cc-9f4e-a0b424b9e92b');\n",
              "          const dataTable =\n",
              "            await google.colab.kernel.invokeFunction('convertToInteractive',\n",
              "                                                     [key], {});\n",
              "          if (!dataTable) return;\n",
              "\n",
              "          const docLinkHtml = 'Like what you see? Visit the ' +\n",
              "            '<a target=\"_blank\" href=https://colab.research.google.com/notebooks/data_table.ipynb>data table notebook</a>'\n",
              "            + ' to learn more about interactive tables.';\n",
              "          element.innerHTML = '';\n",
              "          dataTable['output_type'] = 'display_data';\n",
              "          await google.colab.output.renderOutput(dataTable, element);\n",
              "          const docLink = document.createElement('div');\n",
              "          docLink.innerHTML = docLinkHtml;\n",
              "          element.appendChild(docLink);\n",
              "        }\n",
              "      </script>\n",
              "    </div>\n",
              "  </div>\n",
              "  "
            ]
          },
          "metadata": {},
          "execution_count": 98
        }
      ]
    },
    {
      "cell_type": "code",
      "source": [
        "#checking further information.\n",
        "finance_ds.info()"
      ],
      "metadata": {
        "id": "X_NnynAatMtA",
        "colab": {
          "base_uri": "https://localhost:8080/"
        },
        "outputId": "797ca340-180a-43df-fd3f-027606638428"
      },
      "execution_count": 99,
      "outputs": [
        {
          "output_type": "stream",
          "name": "stdout",
          "text": [
            "<class 'pandas.core.frame.DataFrame'>\n",
            "RangeIndex: 23524 entries, 0 to 23523\n",
            "Data columns (total 13 columns):\n",
            " #   Column                  Non-Null Count  Dtype  \n",
            "---  ------                  --------------  -----  \n",
            " 0   country                 23510 non-null  object \n",
            " 1   year                    23524 non-null  int64  \n",
            " 2   uniqueid                23524 non-null  object \n",
            " 3   Has a Bank account      23488 non-null  object \n",
            " 4   Type of Location        23509 non-null  object \n",
            " 5   Cell Phone Access       23513 non-null  object \n",
            " 6   household_size          23496 non-null  float64\n",
            " 7   Respondent Age          23490 non-null  float64\n",
            " 8   gender_of_respondent    23490 non-null  object \n",
            " 9   The relathip with head  23520 non-null  object \n",
            " 10  marital_status          23492 non-null  object \n",
            " 11  Level of Educuation     23495 non-null  object \n",
            " 12  Type of Job             23494 non-null  object \n",
            "dtypes: float64(2), int64(1), object(10)\n",
            "memory usage: 2.3+ MB\n"
          ]
        }
      ]
    },
    {
      "cell_type": "code",
      "source": [
        "#checking summary information.\n",
        "finance_ds.describe()"
      ],
      "metadata": {
        "colab": {
          "base_uri": "https://localhost:8080/",
          "height": 300
        },
        "id": "YDV5yoR5ttJx",
        "outputId": "592e5a0a-353c-473b-a368-4876c33b3ceb"
      },
      "execution_count": 100,
      "outputs": [
        {
          "output_type": "execute_result",
          "data": {
            "text/plain": [
              "               year  household_size  Respondent Age\n",
              "count  23524.000000    23496.000000    23490.000000\n",
              "mean    2016.979000        3.681818       38.804300\n",
              "std        0.899669        2.279933       16.519996\n",
              "min     2016.000000        0.000000       16.000000\n",
              "25%     2016.000000        2.000000       26.000000\n",
              "50%     2017.000000        3.000000       35.000000\n",
              "75%     2018.000000        5.000000       49.000000\n",
              "max     2056.000000       21.000000      100.000000"
            ],
            "text/html": [
              "\n",
              "  <div id=\"df-07a768af-fff2-435f-8a70-13374549d493\">\n",
              "    <div class=\"colab-df-container\">\n",
              "      <div>\n",
              "<style scoped>\n",
              "    .dataframe tbody tr th:only-of-type {\n",
              "        vertical-align: middle;\n",
              "    }\n",
              "\n",
              "    .dataframe tbody tr th {\n",
              "        vertical-align: top;\n",
              "    }\n",
              "\n",
              "    .dataframe thead th {\n",
              "        text-align: right;\n",
              "    }\n",
              "</style>\n",
              "<table border=\"1\" class=\"dataframe\">\n",
              "  <thead>\n",
              "    <tr style=\"text-align: right;\">\n",
              "      <th></th>\n",
              "      <th>year</th>\n",
              "      <th>household_size</th>\n",
              "      <th>Respondent Age</th>\n",
              "    </tr>\n",
              "  </thead>\n",
              "  <tbody>\n",
              "    <tr>\n",
              "      <th>count</th>\n",
              "      <td>23524.000000</td>\n",
              "      <td>23496.000000</td>\n",
              "      <td>23490.000000</td>\n",
              "    </tr>\n",
              "    <tr>\n",
              "      <th>mean</th>\n",
              "      <td>2016.979000</td>\n",
              "      <td>3.681818</td>\n",
              "      <td>38.804300</td>\n",
              "    </tr>\n",
              "    <tr>\n",
              "      <th>std</th>\n",
              "      <td>0.899669</td>\n",
              "      <td>2.279933</td>\n",
              "      <td>16.519996</td>\n",
              "    </tr>\n",
              "    <tr>\n",
              "      <th>min</th>\n",
              "      <td>2016.000000</td>\n",
              "      <td>0.000000</td>\n",
              "      <td>16.000000</td>\n",
              "    </tr>\n",
              "    <tr>\n",
              "      <th>25%</th>\n",
              "      <td>2016.000000</td>\n",
              "      <td>2.000000</td>\n",
              "      <td>26.000000</td>\n",
              "    </tr>\n",
              "    <tr>\n",
              "      <th>50%</th>\n",
              "      <td>2017.000000</td>\n",
              "      <td>3.000000</td>\n",
              "      <td>35.000000</td>\n",
              "    </tr>\n",
              "    <tr>\n",
              "      <th>75%</th>\n",
              "      <td>2018.000000</td>\n",
              "      <td>5.000000</td>\n",
              "      <td>49.000000</td>\n",
              "    </tr>\n",
              "    <tr>\n",
              "      <th>max</th>\n",
              "      <td>2056.000000</td>\n",
              "      <td>21.000000</td>\n",
              "      <td>100.000000</td>\n",
              "    </tr>\n",
              "  </tbody>\n",
              "</table>\n",
              "</div>\n",
              "      <button class=\"colab-df-convert\" onclick=\"convertToInteractive('df-07a768af-fff2-435f-8a70-13374549d493')\"\n",
              "              title=\"Convert this dataframe to an interactive table.\"\n",
              "              style=\"display:none;\">\n",
              "        \n",
              "  <svg xmlns=\"http://www.w3.org/2000/svg\" height=\"24px\"viewBox=\"0 0 24 24\"\n",
              "       width=\"24px\">\n",
              "    <path d=\"M0 0h24v24H0V0z\" fill=\"none\"/>\n",
              "    <path d=\"M18.56 5.44l.94 2.06.94-2.06 2.06-.94-2.06-.94-.94-2.06-.94 2.06-2.06.94zm-11 1L8.5 8.5l.94-2.06 2.06-.94-2.06-.94L8.5 2.5l-.94 2.06-2.06.94zm10 10l.94 2.06.94-2.06 2.06-.94-2.06-.94-.94-2.06-.94 2.06-2.06.94z\"/><path d=\"M17.41 7.96l-1.37-1.37c-.4-.4-.92-.59-1.43-.59-.52 0-1.04.2-1.43.59L10.3 9.45l-7.72 7.72c-.78.78-.78 2.05 0 2.83L4 21.41c.39.39.9.59 1.41.59.51 0 1.02-.2 1.41-.59l7.78-7.78 2.81-2.81c.8-.78.8-2.07 0-2.86zM5.41 20L4 18.59l7.72-7.72 1.47 1.35L5.41 20z\"/>\n",
              "  </svg>\n",
              "      </button>\n",
              "      \n",
              "  <style>\n",
              "    .colab-df-container {\n",
              "      display:flex;\n",
              "      flex-wrap:wrap;\n",
              "      gap: 12px;\n",
              "    }\n",
              "\n",
              "    .colab-df-convert {\n",
              "      background-color: #E8F0FE;\n",
              "      border: none;\n",
              "      border-radius: 50%;\n",
              "      cursor: pointer;\n",
              "      display: none;\n",
              "      fill: #1967D2;\n",
              "      height: 32px;\n",
              "      padding: 0 0 0 0;\n",
              "      width: 32px;\n",
              "    }\n",
              "\n",
              "    .colab-df-convert:hover {\n",
              "      background-color: #E2EBFA;\n",
              "      box-shadow: 0px 1px 2px rgba(60, 64, 67, 0.3), 0px 1px 3px 1px rgba(60, 64, 67, 0.15);\n",
              "      fill: #174EA6;\n",
              "    }\n",
              "\n",
              "    [theme=dark] .colab-df-convert {\n",
              "      background-color: #3B4455;\n",
              "      fill: #D2E3FC;\n",
              "    }\n",
              "\n",
              "    [theme=dark] .colab-df-convert:hover {\n",
              "      background-color: #434B5C;\n",
              "      box-shadow: 0px 1px 3px 1px rgba(0, 0, 0, 0.15);\n",
              "      filter: drop-shadow(0px 1px 2px rgba(0, 0, 0, 0.3));\n",
              "      fill: #FFFFFF;\n",
              "    }\n",
              "  </style>\n",
              "\n",
              "      <script>\n",
              "        const buttonEl =\n",
              "          document.querySelector('#df-07a768af-fff2-435f-8a70-13374549d493 button.colab-df-convert');\n",
              "        buttonEl.style.display =\n",
              "          google.colab.kernel.accessAllowed ? 'block' : 'none';\n",
              "\n",
              "        async function convertToInteractive(key) {\n",
              "          const element = document.querySelector('#df-07a768af-fff2-435f-8a70-13374549d493');\n",
              "          const dataTable =\n",
              "            await google.colab.kernel.invokeFunction('convertToInteractive',\n",
              "                                                     [key], {});\n",
              "          if (!dataTable) return;\n",
              "\n",
              "          const docLinkHtml = 'Like what you see? Visit the ' +\n",
              "            '<a target=\"_blank\" href=https://colab.research.google.com/notebooks/data_table.ipynb>data table notebook</a>'\n",
              "            + ' to learn more about interactive tables.';\n",
              "          element.innerHTML = '';\n",
              "          dataTable['output_type'] = 'display_data';\n",
              "          await google.colab.output.renderOutput(dataTable, element);\n",
              "          const docLink = document.createElement('div');\n",
              "          docLink.innerHTML = docLinkHtml;\n",
              "          element.appendChild(docLink);\n",
              "        }\n",
              "      </script>\n",
              "    </div>\n",
              "  </div>\n",
              "  "
            ]
          },
          "metadata": {},
          "execution_count": 100
        }
      ]
    },
    {
      "cell_type": "code",
      "source": [
        "# Loading the variable definition data\n",
        "# Variable Definitions url: http://bit.ly/VariableDefinitions\n",
        "\n",
        "definitions = pd.read_csv('http://bit.ly/VariableDefinitions')\n",
        "definitions"
      ],
      "metadata": {
        "id": "Lzc9hiHto8l8",
        "colab": {
          "base_uri": "https://localhost:8080/",
          "height": 426
        },
        "outputId": "541b4ae6-0fe9-490d-f47c-3199bcb04655"
      },
      "execution_count": 101,
      "outputs": [
        {
          "output_type": "execute_result",
          "data": {
            "text/plain": [
              "      Variable Definitions                                         Unnamed: 1\n",
              "0                  country                         Country interviewee is in.\n",
              "1                     year                           Year survey was done in.\n",
              "2                 uniqueid             Unique identifier for each interviewee\n",
              "3            location_type                     Type of location: Rural, Urban\n",
              "4         cellphone_access  If interviewee has access to a cellphone: Yes, No\n",
              "5           household_size               Number of people living in one house\n",
              "6        age_of_respondent                         The age of the interviewee\n",
              "7     gender_of_respondent                Gender of interviewee: Male, Female\n",
              "8   relationship_with_head  The interviewee’s relationship with the head o...\n",
              "9           marital_status  The martial status of the interviewee: Married...\n",
              "10         education_level  Highest level of education: No formal educatio...\n",
              "11                job_type  Type of job interviewee has: Farming and Fishi..."
            ],
            "text/html": [
              "\n",
              "  <div id=\"df-8005b684-4aa4-4223-970b-6e911d651d1f\">\n",
              "    <div class=\"colab-df-container\">\n",
              "      <div>\n",
              "<style scoped>\n",
              "    .dataframe tbody tr th:only-of-type {\n",
              "        vertical-align: middle;\n",
              "    }\n",
              "\n",
              "    .dataframe tbody tr th {\n",
              "        vertical-align: top;\n",
              "    }\n",
              "\n",
              "    .dataframe thead th {\n",
              "        text-align: right;\n",
              "    }\n",
              "</style>\n",
              "<table border=\"1\" class=\"dataframe\">\n",
              "  <thead>\n",
              "    <tr style=\"text-align: right;\">\n",
              "      <th></th>\n",
              "      <th>Variable Definitions</th>\n",
              "      <th>Unnamed: 1</th>\n",
              "    </tr>\n",
              "  </thead>\n",
              "  <tbody>\n",
              "    <tr>\n",
              "      <th>0</th>\n",
              "      <td>country</td>\n",
              "      <td>Country interviewee is in.</td>\n",
              "    </tr>\n",
              "    <tr>\n",
              "      <th>1</th>\n",
              "      <td>year</td>\n",
              "      <td>Year survey was done in.</td>\n",
              "    </tr>\n",
              "    <tr>\n",
              "      <th>2</th>\n",
              "      <td>uniqueid</td>\n",
              "      <td>Unique identifier for each interviewee</td>\n",
              "    </tr>\n",
              "    <tr>\n",
              "      <th>3</th>\n",
              "      <td>location_type</td>\n",
              "      <td>Type of location: Rural, Urban</td>\n",
              "    </tr>\n",
              "    <tr>\n",
              "      <th>4</th>\n",
              "      <td>cellphone_access</td>\n",
              "      <td>If interviewee has access to a cellphone: Yes, No</td>\n",
              "    </tr>\n",
              "    <tr>\n",
              "      <th>5</th>\n",
              "      <td>household_size</td>\n",
              "      <td>Number of people living in one house</td>\n",
              "    </tr>\n",
              "    <tr>\n",
              "      <th>6</th>\n",
              "      <td>age_of_respondent</td>\n",
              "      <td>The age of the interviewee</td>\n",
              "    </tr>\n",
              "    <tr>\n",
              "      <th>7</th>\n",
              "      <td>gender_of_respondent</td>\n",
              "      <td>Gender of interviewee: Male, Female</td>\n",
              "    </tr>\n",
              "    <tr>\n",
              "      <th>8</th>\n",
              "      <td>relationship_with_head</td>\n",
              "      <td>The interviewee’s relationship with the head o...</td>\n",
              "    </tr>\n",
              "    <tr>\n",
              "      <th>9</th>\n",
              "      <td>marital_status</td>\n",
              "      <td>The martial status of the interviewee: Married...</td>\n",
              "    </tr>\n",
              "    <tr>\n",
              "      <th>10</th>\n",
              "      <td>education_level</td>\n",
              "      <td>Highest level of education: No formal educatio...</td>\n",
              "    </tr>\n",
              "    <tr>\n",
              "      <th>11</th>\n",
              "      <td>job_type</td>\n",
              "      <td>Type of job interviewee has: Farming and Fishi...</td>\n",
              "    </tr>\n",
              "  </tbody>\n",
              "</table>\n",
              "</div>\n",
              "      <button class=\"colab-df-convert\" onclick=\"convertToInteractive('df-8005b684-4aa4-4223-970b-6e911d651d1f')\"\n",
              "              title=\"Convert this dataframe to an interactive table.\"\n",
              "              style=\"display:none;\">\n",
              "        \n",
              "  <svg xmlns=\"http://www.w3.org/2000/svg\" height=\"24px\"viewBox=\"0 0 24 24\"\n",
              "       width=\"24px\">\n",
              "    <path d=\"M0 0h24v24H0V0z\" fill=\"none\"/>\n",
              "    <path d=\"M18.56 5.44l.94 2.06.94-2.06 2.06-.94-2.06-.94-.94-2.06-.94 2.06-2.06.94zm-11 1L8.5 8.5l.94-2.06 2.06-.94-2.06-.94L8.5 2.5l-.94 2.06-2.06.94zm10 10l.94 2.06.94-2.06 2.06-.94-2.06-.94-.94-2.06-.94 2.06-2.06.94z\"/><path d=\"M17.41 7.96l-1.37-1.37c-.4-.4-.92-.59-1.43-.59-.52 0-1.04.2-1.43.59L10.3 9.45l-7.72 7.72c-.78.78-.78 2.05 0 2.83L4 21.41c.39.39.9.59 1.41.59.51 0 1.02-.2 1.41-.59l7.78-7.78 2.81-2.81c.8-.78.8-2.07 0-2.86zM5.41 20L4 18.59l7.72-7.72 1.47 1.35L5.41 20z\"/>\n",
              "  </svg>\n",
              "      </button>\n",
              "      \n",
              "  <style>\n",
              "    .colab-df-container {\n",
              "      display:flex;\n",
              "      flex-wrap:wrap;\n",
              "      gap: 12px;\n",
              "    }\n",
              "\n",
              "    .colab-df-convert {\n",
              "      background-color: #E8F0FE;\n",
              "      border: none;\n",
              "      border-radius: 50%;\n",
              "      cursor: pointer;\n",
              "      display: none;\n",
              "      fill: #1967D2;\n",
              "      height: 32px;\n",
              "      padding: 0 0 0 0;\n",
              "      width: 32px;\n",
              "    }\n",
              "\n",
              "    .colab-df-convert:hover {\n",
              "      background-color: #E2EBFA;\n",
              "      box-shadow: 0px 1px 2px rgba(60, 64, 67, 0.3), 0px 1px 3px 1px rgba(60, 64, 67, 0.15);\n",
              "      fill: #174EA6;\n",
              "    }\n",
              "\n",
              "    [theme=dark] .colab-df-convert {\n",
              "      background-color: #3B4455;\n",
              "      fill: #D2E3FC;\n",
              "    }\n",
              "\n",
              "    [theme=dark] .colab-df-convert:hover {\n",
              "      background-color: #434B5C;\n",
              "      box-shadow: 0px 1px 3px 1px rgba(0, 0, 0, 0.15);\n",
              "      filter: drop-shadow(0px 1px 2px rgba(0, 0, 0, 0.3));\n",
              "      fill: #FFFFFF;\n",
              "    }\n",
              "  </style>\n",
              "\n",
              "      <script>\n",
              "        const buttonEl =\n",
              "          document.querySelector('#df-8005b684-4aa4-4223-970b-6e911d651d1f button.colab-df-convert');\n",
              "        buttonEl.style.display =\n",
              "          google.colab.kernel.accessAllowed ? 'block' : 'none';\n",
              "\n",
              "        async function convertToInteractive(key) {\n",
              "          const element = document.querySelector('#df-8005b684-4aa4-4223-970b-6e911d651d1f');\n",
              "          const dataTable =\n",
              "            await google.colab.kernel.invokeFunction('convertToInteractive',\n",
              "                                                     [key], {});\n",
              "          if (!dataTable) return;\n",
              "\n",
              "          const docLinkHtml = 'Like what you see? Visit the ' +\n",
              "            '<a target=\"_blank\" href=https://colab.research.google.com/notebooks/data_table.ipynb>data table notebook</a>'\n",
              "            + ' to learn more about interactive tables.';\n",
              "          element.innerHTML = '';\n",
              "          dataTable['output_type'] = 'display_data';\n",
              "          await google.colab.output.renderOutput(dataTable, element);\n",
              "          const docLink = document.createElement('div');\n",
              "          docLink.innerHTML = docLinkHtml;\n",
              "          element.appendChild(docLink);\n",
              "        }\n",
              "      </script>\n",
              "    </div>\n",
              "  </div>\n",
              "  "
            ]
          },
          "metadata": {},
          "execution_count": 101
        }
      ]
    },
    {
      "cell_type": "markdown",
      "source": [
        "**Data Cleaning**"
      ],
      "metadata": {
        "id": "v0HclxDkuaJR"
      }
    },
    {
      "cell_type": "code",
      "source": [
        "#check for data duplicates in the dataset\n",
        "finance_ds.duplicated().sum()"
      ],
      "metadata": {
        "colab": {
          "base_uri": "https://localhost:8080/"
        },
        "id": "-sHJjr0oyMUt",
        "outputId": "fd8cc8ee-f05e-4695-8142-1c092ecd8472"
      },
      "execution_count": 102,
      "outputs": [
        {
          "output_type": "execute_result",
          "data": {
            "text/plain": [
              "0"
            ]
          },
          "metadata": {},
          "execution_count": 102
        }
      ]
    },
    {
      "cell_type": "code",
      "source": [
        "# Checking for outliers\n",
        "\n",
        "Q1 = finance_ds.quantile(0.25)\n",
        "Q3 = finance_ds.quantile(0.75)\n",
        "\n",
        "print(Q1)\n",
        "print(Q3)\n",
        "\n",
        "IQR = Q3 - Q1\n",
        "print(IQR)\n",
        "\n",
        "lower_bound = Q1 - (1.5*IQR)\n",
        "upper_bound = Q3 + (1.5*IQR)\n",
        "\n",
        "print('Lower_Bound' +str(lower_bound))\n",
        "print('Upper_Bound' +str(upper_bound))"
      ],
      "metadata": {
        "colab": {
          "base_uri": "https://localhost:8080/"
        },
        "id": "XTl2D0kpzkHF",
        "outputId": "2f46f46a-fa43-4008-ce57-9bb4f567ce60"
      },
      "execution_count": 103,
      "outputs": [
        {
          "output_type": "stream",
          "name": "stdout",
          "text": [
            "year              2016.0\n",
            "household_size       2.0\n",
            "Respondent Age      26.0\n",
            "Name: 0.25, dtype: float64\n",
            "year              2018.0\n",
            "household_size       5.0\n",
            "Respondent Age      49.0\n",
            "Name: 0.75, dtype: float64\n",
            "year               2.0\n",
            "household_size     3.0\n",
            "Respondent Age    23.0\n",
            "dtype: float64\n",
            "Lower_Boundyear              2013.0\n",
            "household_size      -2.5\n",
            "Respondent Age      -8.5\n",
            "dtype: float64\n",
            "Upper_Boundyear              2021.0\n",
            "household_size       9.5\n",
            "Respondent Age      83.5\n",
            "dtype: float64\n"
          ]
        }
      ]
    },
    {
      "cell_type": "code",
      "source": [
        "# Removing outliers\n",
        "\n",
        "finance_ds1 = finance_ds[~((finance_ds < (Q1 - 1.5 * IQR)) |(finance_ds > (Q3 + 1.5 * IQR))).any(axis=1)]\n",
        "\n",
        "finance_ds1.shape"
      ],
      "metadata": {
        "id": "A14EC9dK096R",
        "colab": {
          "base_uri": "https://localhost:8080/"
        },
        "outputId": "07d34ce0-cea8-4cae-e974-4ce7ff19c2ba"
      },
      "execution_count": 104,
      "outputs": [
        {
          "output_type": "stream",
          "name": "stderr",
          "text": [
            "/usr/local/lib/python3.7/dist-packages/ipykernel_launcher.py:3: FutureWarning: Automatic reindexing on DataFrame vs Series comparisons is deprecated and will raise ValueError in a future version.  Do `left, right = left.align(right, axis=1, copy=False)` before e.g. `left == right`\n",
            "  This is separate from the ipykernel package so we can avoid doing imports until\n"
          ]
        },
        {
          "output_type": "execute_result",
          "data": {
            "text/plain": [
              "(22903, 13)"
            ]
          },
          "metadata": {},
          "execution_count": 104
        }
      ]
    },
    {
      "cell_type": "markdown",
      "source": [
        "I have removed ouliers and remained with 22903 rows."
      ],
      "metadata": {
        "id": "ZtLP4YfM1iV-"
      }
    },
    {
      "cell_type": "code",
      "source": [
        "# checking for missing values in the newest dataset\n",
        "finance_ds1.isnull().sum()"
      ],
      "metadata": {
        "id": "DjZw8C0DvTvF",
        "colab": {
          "base_uri": "https://localhost:8080/"
        },
        "outputId": "81d0a31e-eba4-43b8-d96f-8e7e28a5bb67"
      },
      "execution_count": 105,
      "outputs": [
        {
          "output_type": "execute_result",
          "data": {
            "text/plain": [
              "country                   14\n",
              "year                       0\n",
              "uniqueid                   0\n",
              "Has a Bank account        36\n",
              "Type of Location          15\n",
              "Cell Phone Access         11\n",
              "household_size            27\n",
              "Respondent Age            33\n",
              "gender_of_respondent      33\n",
              "The relathip with head     4\n",
              "marital_status            31\n",
              "Level of Educuation       29\n",
              "Type of Job               30\n",
              "dtype: int64"
            ]
          },
          "metadata": {},
          "execution_count": 105
        }
      ]
    },
    {
      "cell_type": "code",
      "source": [
        "# Dealing with missing values\n",
        "# Repalce missing values with mean for continous variables and mode for categorical variables.\n",
        "\n",
        "finance_ds1['country'].fillna(finance_ds1['country'].mode()[0], inplace=True)\n",
        "finance_ds1['Has a Bank account'].fillna(finance_ds1['Has a Bank account'].mode()[0], inplace=True)\n",
        "finance_ds1['Type of Location'].fillna(finance_ds1['Type of Location'].mode()[0], inplace=True)\n",
        "finance_ds1['Cell Phone Access'].fillna(finance_ds1['Cell Phone Access'].mode()[0], inplace=True)\n",
        "finance_ds1['household_size'].fillna(finance_ds1['household_size'].mean(), inplace=True)\n",
        "finance_ds1['Respondent Age'].fillna(finance_ds1['Respondent Age'].mean(), inplace=True)\n",
        "finance_ds1['gender_of_respondent'].fillna(finance_ds1['gender_of_respondent'].mode()[0], inplace=True)\n",
        "finance_ds1['The relathip with head'].fillna(finance_ds1['The relathip with head'].mode()[0], inplace=True)\n",
        "finance_ds1['marital_status'].fillna(finance_ds1['marital_status'].mode()[0], inplace=True)\n",
        "finance_ds1['Level of Educuation'].fillna(finance_ds1['Level of Educuation'].mode()[0], inplace=True)\n",
        "finance_ds1['Type of Job'].fillna(finance_ds1['Type of Job'].mode()[0], inplace=True)"
      ],
      "metadata": {
        "id": "bLxl9UVZ2URj",
        "colab": {
          "base_uri": "https://localhost:8080/"
        },
        "outputId": "6117976a-21c5-4473-b458-9dcf53540bc8"
      },
      "execution_count": 106,
      "outputs": [
        {
          "output_type": "stream",
          "name": "stderr",
          "text": [
            "/usr/local/lib/python3.7/dist-packages/pandas/core/generic.py:6392: SettingWithCopyWarning: \n",
            "A value is trying to be set on a copy of a slice from a DataFrame\n",
            "\n",
            "See the caveats in the documentation: https://pandas.pydata.org/pandas-docs/stable/user_guide/indexing.html#returning-a-view-versus-a-copy\n",
            "  return self._update_inplace(result)\n"
          ]
        }
      ]
    },
    {
      "cell_type": "code",
      "source": [
        "finance_ds1.isnull().sum()"
      ],
      "metadata": {
        "id": "igVVNBNW2-1z",
        "colab": {
          "base_uri": "https://localhost:8080/"
        },
        "outputId": "d1c893c4-44ab-4934-fab0-cc553894d9c5"
      },
      "execution_count": 107,
      "outputs": [
        {
          "output_type": "execute_result",
          "data": {
            "text/plain": [
              "country                   0\n",
              "year                      0\n",
              "uniqueid                  0\n",
              "Has a Bank account        0\n",
              "Type of Location          0\n",
              "Cell Phone Access         0\n",
              "household_size            0\n",
              "Respondent Age            0\n",
              "gender_of_respondent      0\n",
              "The relathip with head    0\n",
              "marital_status            0\n",
              "Level of Educuation       0\n",
              "Type of Job               0\n",
              "dtype: int64"
            ]
          },
          "metadata": {},
          "execution_count": 107
        }
      ]
    },
    {
      "cell_type": "markdown",
      "source": [
        "Removed all outliers, duplicates and anomalies."
      ],
      "metadata": {
        "id": "4y1sC77v3Pmd"
      }
    },
    {
      "cell_type": "markdown",
      "source": [
        "**Data Exploration**"
      ],
      "metadata": {
        "id": "UrpPC_YE3jcr"
      }
    },
    {
      "cell_type": "markdown",
      "source": [
        "**Univariate Analysis**"
      ],
      "metadata": {
        "id": "ZKYdVnI93wuu"
      }
    },
    {
      "cell_type": "code",
      "source": [
        "# Frequencies of gender of respondents.\n",
        "print(\"1. Frequencies of gender of respondents.\")\n",
        "print(finance_ds1['gender_of_respondent'].value_counts())\n",
        "print(\"\")\n",
        "print(\"\")\n",
        "\n",
        "# Frequencies of cell phone access\n",
        "print(\"2. Frequencies of cell phone access\")\n",
        "print(finance_ds1['Cell Phone Access'].value_counts())\n",
        "print(\"\")\n",
        "print(\"\")\n",
        "\n",
        "\n",
        "# Frequencies of 'has a bank account\n",
        "print(\"3. Frequencies of 'has a bank account\")\n",
        "print(finance_ds1['Has a Bank account'].value_counts())\n",
        "print(\"\")\n",
        "print(\"\")\n",
        "\n",
        "# Frequencies of 'level of education\n",
        "print(\"4. Frequencies of 'level of education\")\n",
        "finance_ds1['Level of Educuation'].value_counts()"
      ],
      "metadata": {
        "colab": {
          "base_uri": "https://localhost:8080/"
        },
        "id": "2qbV9IeF6bur",
        "outputId": "bbd8d685-85d0-4de4-d7c0-3514d91d47b0"
      },
      "execution_count": 108,
      "outputs": [
        {
          "output_type": "stream",
          "name": "stdout",
          "text": [
            "1. Frequencies of gender of respondents.\n",
            "Female    13521\n",
            "Male       9382\n",
            "Name: gender_of_respondent, dtype: int64\n",
            "\n",
            "\n",
            "2. Frequencies of cell phone access\n",
            "Yes    17110\n",
            "No      5793\n",
            "Name: Cell Phone Access, dtype: int64\n",
            "\n",
            "\n",
            "3. Frequencies of 'has a bank account\n",
            "No     19656\n",
            "Yes     3247\n",
            "Name: Has a Bank account, dtype: int64\n",
            "\n",
            "\n",
            "4. Frequencies of 'level of education\n"
          ]
        },
        {
          "output_type": "execute_result",
          "data": {
            "text/plain": [
              "Primary education                  12556\n",
              "No formal education                 4270\n",
              "Secondary education                 4113\n",
              "Tertiary education                  1146\n",
              "Vocational/Specialised training      787\n",
              "6                                     25\n",
              "Other/Dont know/RTA                    6\n",
              "Name: Level of Educuation, dtype: int64"
            ]
          },
          "metadata": {},
          "execution_count": 108
        }
      ]
    },
    {
      "cell_type": "code",
      "source": [
        "# bar graph for 'type of job'\n",
        "\n",
        "finance_ds1['Type of Job'].value_counts().plot.bar(title='Type of Job')\n"
      ],
      "metadata": {
        "colab": {
          "base_uri": "https://localhost:8080/",
          "height": 449
        },
        "id": "VLGfARhg8YsQ",
        "outputId": "b39b0c16-8c90-42fa-b0c6-60776d1f51a0"
      },
      "execution_count": 109,
      "outputs": [
        {
          "output_type": "execute_result",
          "data": {
            "text/plain": [
              "<matplotlib.axes._subplots.AxesSubplot at 0x7fe9c4dd6490>"
            ]
          },
          "metadata": {},
          "execution_count": 109
        },
        {
          "output_type": "display_data",
          "data": {
            "text/plain": [
              "<Figure size 432x288 with 1 Axes>"
            ],
            "image/png": "[encoded data removed]"
          },
          "metadata": {
            "needs_background": "light"
          }
        }
      ]
    },
    {
      "cell_type": "code",
      "source": [
        "# plotting bar chart for 'marital status'\n",
        "\n",
        "finance_ds1['marital_status'].value_counts().plot.bar(title='marital Status')"
      ],
      "metadata": {
        "colab": {
          "base_uri": "https://localhost:8080/",
          "height": 406
        },
        "id": "1R_XyAqP8lee",
        "outputId": "46c05b8a-37ab-45b1-afa3-3e938f3db69b"
      },
      "execution_count": 110,
      "outputs": [
        {
          "output_type": "execute_result",
          "data": {
            "text/plain": [
              "<matplotlib.axes._subplots.AxesSubplot at 0x7fe9c4d7a550>"
            ]
          },
          "metadata": {},
          "execution_count": 110
        },
        {
          "output_type": "display_data",
          "data": {
            "text/plain": [
              "<Figure size 432x288 with 1 Axes>"
            ],
            "image/png": "[encoded data removed]"
          },
          "metadata": {
            "needs_background": "light"
          }
        }
      ]
    },
    {
      "cell_type": "code",
      "source": [
        "# Plotting a histogram for 'relationship with head'\n",
        "\n",
        "rel=finance_ds1['The relathip with head']\n",
        "\n",
        "plt.hist(rel, bins=10, histtype='bar', rwidth=0.9)\n",
        "plt.xlabel('x')\n",
        "plt.xticks(rotation=45, ha=\"right\")\n",
        "plt.ylabel('y')\n",
        "plt.title('relationships')\n",
        "plt.show()"
      ],
      "metadata": {
        "id": "Jfpqdr2E8vGI",
        "colab": {
          "base_uri": "https://localhost:8080/",
          "height": 361
        },
        "outputId": "8aa66c74-e1e2-403d-e47f-712201edeb6b"
      },
      "execution_count": 111,
      "outputs": [
        {
          "output_type": "display_data",
          "data": {
            "text/plain": [
              "<Figure size 432x288 with 1 Axes>"
            ],
            "image/png": "[encoded data removed]"
          },
          "metadata": {
            "needs_background": "light"
          }
        }
      ]
    },
    {
      "cell_type": "code",
      "source": [
        "# Plotting a pie chart for the country\n",
        "\n",
        "# Defining our labels, sizes, colors and explode \n",
        "countries = finance_ds1['country'].value_counts()\n",
        "colors = ['yellow', 'blue', 'red', 'green']\n",
        "\n",
        "# Highlights a particular Value in plot\n",
        "explode = (0.1, 0.1, 0, 0)  \n",
        "\n",
        "# Plotting our pie chart\n",
        "plt.pie(countries, explode=explode, labels=countries, colors=colors, autopct='%1.1f%%', shadow=True, startangle=140)\n",
        "\n",
        "plt.axis('equal')\n",
        "plt.title('Pie Chart of Countries')\n",
        "plt.show()"
      ],
      "metadata": {
        "id": "bILxLj6k9-N6",
        "colab": {
          "base_uri": "https://localhost:8080/",
          "height": 264
        },
        "outputId": "a0b3db88-59e0-4210-9154-dd1b7d15266a"
      },
      "execution_count": 112,
      "outputs": [
        {
          "output_type": "display_data",
          "data": {
            "text/plain": [
              "<Figure size 432x288 with 1 Axes>"
            ],
            "image/png": "[encoded data removed]"
          },
          "metadata": {}
        }
      ]
    },
    {
      "cell_type": "markdown",
      "source": [
        "Measures of Central Tendency"
      ],
      "metadata": {
        "id": "8Iod9Y9XD8mI"
      }
    },
    {
      "cell_type": "code",
      "source": [
        "# Describe numerical variables\n",
        "finance_ds1[['household_size','Respondent Age']].describe()"
      ],
      "metadata": {
        "id": "z81aQuNIECCo",
        "colab": {
          "base_uri": "https://localhost:8080/",
          "height": 300
        },
        "outputId": "ab522fa2-47b6-49e2-c22e-21d05727fe58"
      },
      "execution_count": 113,
      "outputs": [
        {
          "output_type": "execute_result",
          "data": {
            "text/plain": [
              "       household_size  Respondent Age\n",
              "count    22903.000000    22903.000000\n",
              "mean         3.573396       38.345081\n",
              "std          2.078557       15.792632\n",
              "min          0.000000       16.000000\n",
              "25%          2.000000       26.000000\n",
              "50%          3.000000       35.000000\n",
              "75%          5.000000       48.000000\n",
              "max          9.000000       83.000000"
            ],
            "text/html": [
              "\n",
              "  <div id=\"df-e2e33f25-aedb-45cd-8c43-87be4d0022ac\">\n",
              "    <div class=\"colab-df-container\">\n",
              "      <div>\n",
              "<style scoped>\n",
              "    .dataframe tbody tr th:only-of-type {\n",
              "        vertical-align: middle;\n",
              "    }\n",
              "\n",
              "    .dataframe tbody tr th {\n",
              "        vertical-align: top;\n",
              "    }\n",
              "\n",
              "    .dataframe thead th {\n",
              "        text-align: right;\n",
              "    }\n",
              "</style>\n",
              "<table border=\"1\" class=\"dataframe\">\n",
              "  <thead>\n",
              "    <tr style=\"text-align: right;\">\n",
              "      <th></th>\n",
              "      <th>household_size</th>\n",
              "      <th>Respondent Age</th>\n",
              "    </tr>\n",
              "  </thead>\n",
              "  <tbody>\n",
              "    <tr>\n",
              "      <th>count</th>\n",
              "      <td>22903.000000</td>\n",
              "      <td>22903.000000</td>\n",
              "    </tr>\n",
              "    <tr>\n",
              "      <th>mean</th>\n",
              "      <td>3.573396</td>\n",
              "      <td>38.345081</td>\n",
              "    </tr>\n",
              "    <tr>\n",
              "      <th>std</th>\n",
              "      <td>2.078557</td>\n",
              "      <td>15.792632</td>\n",
              "    </tr>\n",
              "    <tr>\n",
              "      <th>min</th>\n",
              "      <td>0.000000</td>\n",
              "      <td>16.000000</td>\n",
              "    </tr>\n",
              "    <tr>\n",
              "      <th>25%</th>\n",
              "      <td>2.000000</td>\n",
              "      <td>26.000000</td>\n",
              "    </tr>\n",
              "    <tr>\n",
              "      <th>50%</th>\n",
              "      <td>3.000000</td>\n",
              "      <td>35.000000</td>\n",
              "    </tr>\n",
              "    <tr>\n",
              "      <th>75%</th>\n",
              "      <td>5.000000</td>\n",
              "      <td>48.000000</td>\n",
              "    </tr>\n",
              "    <tr>\n",
              "      <th>max</th>\n",
              "      <td>9.000000</td>\n",
              "      <td>83.000000</td>\n",
              "    </tr>\n",
              "  </tbody>\n",
              "</table>\n",
              "</div>\n",
              "      <button class=\"colab-df-convert\" onclick=\"convertToInteractive('df-e2e33f25-aedb-45cd-8c43-87be4d0022ac')\"\n",
              "              title=\"Convert this dataframe to an interactive table.\"\n",
              "              style=\"display:none;\">\n",
              "        \n",
              "  <svg xmlns=\"http://www.w3.org/2000/svg\" height=\"24px\"viewBox=\"0 0 24 24\"\n",
              "       width=\"24px\">\n",
              "    <path d=\"M0 0h24v24H0V0z\" fill=\"none\"/>\n",
              "    <path d=\"M18.56 5.44l.94 2.06.94-2.06 2.06-.94-2.06-.94-.94-2.06-.94 2.06-2.06.94zm-11 1L8.5 8.5l.94-2.06 2.06-.94-2.06-.94L8.5 2.5l-.94 2.06-2.06.94zm10 10l.94 2.06.94-2.06 2.06-.94-2.06-.94-.94-2.06-.94 2.06-2.06.94z\"/><path d=\"M17.41 7.96l-1.37-1.37c-.4-.4-.92-.59-1.43-.59-.52 0-1.04.2-1.43.59L10.3 9.45l-7.72 7.72c-.78.78-.78 2.05 0 2.83L4 21.41c.39.39.9.59 1.41.59.51 0 1.02-.2 1.41-.59l7.78-7.78 2.81-2.81c.8-.78.8-2.07 0-2.86zM5.41 20L4 18.59l7.72-7.72 1.47 1.35L5.41 20z\"/>\n",
              "  </svg>\n",
              "      </button>\n",
              "      \n",
              "  <style>\n",
              "    .colab-df-container {\n",
              "      display:flex;\n",
              "      flex-wrap:wrap;\n",
              "      gap: 12px;\n",
              "    }\n",
              "\n",
              "    .colab-df-convert {\n",
              "      background-color: #E8F0FE;\n",
              "      border: none;\n",
              "      border-radius: 50%;\n",
              "      cursor: pointer;\n",
              "      display: none;\n",
              "      fill: #1967D2;\n",
              "      height: 32px;\n",
              "      padding: 0 0 0 0;\n",
              "      width: 32px;\n",
              "    }\n",
              "\n",
              "    .colab-df-convert:hover {\n",
              "      background-color: #E2EBFA;\n",
              "      box-shadow: 0px 1px 2px rgba(60, 64, 67, 0.3), 0px 1px 3px 1px rgba(60, 64, 67, 0.15);\n",
              "      fill: #174EA6;\n",
              "    }\n",
              "\n",
              "    [theme=dark] .colab-df-convert {\n",
              "      background-color: #3B4455;\n",
              "      fill: #D2E3FC;\n",
              "    }\n",
              "\n",
              "    [theme=dark] .colab-df-convert:hover {\n",
              "      background-color: #434B5C;\n",
              "      box-shadow: 0px 1px 3px 1px rgba(0, 0, 0, 0.15);\n",
              "      filter: drop-shadow(0px 1px 2px rgba(0, 0, 0, 0.3));\n",
              "      fill: #FFFFFF;\n",
              "    }\n",
              "  </style>\n",
              "\n",
              "      <script>\n",
              "        const buttonEl =\n",
              "          document.querySelector('#df-e2e33f25-aedb-45cd-8c43-87be4d0022ac button.colab-df-convert');\n",
              "        buttonEl.style.display =\n",
              "          google.colab.kernel.accessAllowed ? 'block' : 'none';\n",
              "\n",
              "        async function convertToInteractive(key) {\n",
              "          const element = document.querySelector('#df-e2e33f25-aedb-45cd-8c43-87be4d0022ac');\n",
              "          const dataTable =\n",
              "            await google.colab.kernel.invokeFunction('convertToInteractive',\n",
              "                                                     [key], {});\n",
              "          if (!dataTable) return;\n",
              "\n",
              "          const docLinkHtml = 'Like what you see? Visit the ' +\n",
              "            '<a target=\"_blank\" href=https://colab.research.google.com/notebooks/data_table.ipynb>data table notebook</a>'\n",
              "            + ' to learn more about interactive tables.';\n",
              "          element.innerHTML = '';\n",
              "          dataTable['output_type'] = 'display_data';\n",
              "          await google.colab.output.renderOutput(dataTable, element);\n",
              "          const docLink = document.createElement('div');\n",
              "          docLink.innerHTML = docLinkHtml;\n",
              "          element.appendChild(docLink);\n",
              "        }\n",
              "      </script>\n",
              "    </div>\n",
              "  </div>\n",
              "  "
            ]
          },
          "metadata": {},
          "execution_count": 113
        }
      ]
    },
    {
      "cell_type": "code",
      "source": [
        "# The modes of household size and Respondent Age\n",
        "print('1. Household_size mode')\n",
        "print(finance_ds1['household_size'].mode())\n",
        "print('')\n",
        "print('')\n",
        "\n",
        "print('2. Respondent Age mode')\n",
        "print(finance_ds1['Respondent Age'].mode())\n",
        "\n",
        "# These are the numbers appearing the most in the two columns respectively"
      ],
      "metadata": {
        "id": "q_0a2hhQE7Dj",
        "colab": {
          "base_uri": "https://localhost:8080/"
        },
        "outputId": "49a1375d-12b4-439a-a6f7-b0337ec12e88"
      },
      "execution_count": 114,
      "outputs": [
        {
          "output_type": "stream",
          "name": "stdout",
          "text": [
            "1. Household_size mode\n",
            "0    2.0\n",
            "dtype: float64\n",
            "\n",
            "\n",
            "2. Respondent Age mode\n",
            "0    30.0\n",
            "dtype: float64\n"
          ]
        }
      ]
    },
    {
      "cell_type": "code",
      "source": [
        "# finding the medians\n",
        "\n",
        "print('1. Respondent Age median')\n",
        "print(finance_ds1['Respondent Age'].median())\n",
        "print('')\n",
        "print('')\n",
        "\n",
        "print('2. Household_size median')\n",
        "print(finance_ds1['household_size'].median())\n",
        "\n",
        "#This is the value that divides the data into two equal parts."
      ],
      "metadata": {
        "id": "FWrryFqAFuS3",
        "colab": {
          "base_uri": "https://localhost:8080/"
        },
        "outputId": "b3a9ee6e-9302-4f4b-97d4-c0ec6f134f45"
      },
      "execution_count": 115,
      "outputs": [
        {
          "output_type": "stream",
          "name": "stdout",
          "text": [
            "1. Respondent Age median\n",
            "35.0\n",
            "\n",
            "\n",
            "2. Household_size median\n",
            "3.0\n"
          ]
        }
      ]
    },
    {
      "cell_type": "markdown",
      "source": [
        "Measures of Dispersion"
      ],
      "metadata": {
        "id": "u6o5BkzMG2uQ"
      }
    },
    {
      "cell_type": "code",
      "source": [
        "# finding the standard deviations\n",
        "\n",
        "print('1. Respondent Age standard deviation')\n",
        "print(finance_ds1['Respondent Age'].std())\n",
        "print('')\n",
        "print('')\n",
        "\n",
        "print('2. household_size standard deviation')\n",
        "print(finance_ds1['household_size'].std())\n",
        "\n",
        "\n",
        "# This is how far a value is from the mean"
      ],
      "metadata": {
        "colab": {
          "base_uri": "https://localhost:8080/"
        },
        "id": "meO8aSuiG5oH",
        "outputId": "a20978c2-73a4-407f-8028-17b47a7b301c"
      },
      "execution_count": 116,
      "outputs": [
        {
          "output_type": "stream",
          "name": "stdout",
          "text": [
            "1. Respondent Age standard deviation\n",
            "15.792632474845702\n",
            "\n",
            "\n",
            "2. household_size standard deviation\n",
            "2.078556853919515\n"
          ]
        }
      ]
    },
    {
      "cell_type": "code",
      "source": [
        "# finding the variances\n",
        "\n",
        "print('1. Respondent Age variance')\n",
        "print(finance_ds1['Respondent Age'].var())\n",
        "print('')\n",
        "print('')\n",
        "\n",
        "print('2. household_size variance')\n",
        "print(finance_ds1['household_size'].var())\n",
        "\n",
        "# This is the square of standard deviation.\n",
        "# It gives the same information - The distance from the mean."
      ],
      "metadata": {
        "colab": {
          "base_uri": "https://localhost:8080/"
        },
        "id": "Ql-MGu70JE6l",
        "outputId": "08cf32b4-fa77-4bd6-b654-45d2e00f2488"
      },
      "execution_count": 117,
      "outputs": [
        {
          "output_type": "stream",
          "name": "stdout",
          "text": [
            "1. Respondent Age variance\n",
            "249.40724048555106\n",
            "\n",
            "\n",
            "2. household_size variance\n",
            "4.320398594975792\n"
          ]
        }
      ]
    },
    {
      "cell_type": "code",
      "source": [
        "# Range.\n",
        "\n",
        "print('1. household_size range')\n",
        "finance_ds1_max = finance_ds1['household_size'].max()\n",
        "finance_ds1_min = finance_ds1['household_size'].min()\n",
        "household_range = finance_ds1_max - finance_ds1_min\n",
        "print(household_range)\n",
        "print('')\n",
        "print('')\n",
        "\n",
        "print('2. Respondent Age range')\n",
        "finance_ds1_max = finance_ds1['Respondent Age'].max()\n",
        "finance_ds1_min = finance_ds1['Respondent Age'].min()\n",
        "respondentage_range = finance_ds1_max - finance_ds1_min\n",
        "print(respondentage_range)\n",
        "\n",
        "# This shows the difference between the maximum and the minimum value."
      ],
      "metadata": {
        "colab": {
          "base_uri": "https://localhost:8080/"
        },
        "id": "qV3oZ6dKJwFU",
        "outputId": "cf7ec77c-0279-49ad-d574-345b3a80ccff"
      },
      "execution_count": 118,
      "outputs": [
        {
          "output_type": "stream",
          "name": "stdout",
          "text": [
            "1. household_size range\n",
            "9.0\n",
            "\n",
            "\n",
            "2. Respondent Age range\n",
            "67.0\n"
          ]
        }
      ]
    },
    {
      "cell_type": "code",
      "source": [
        "# Skweness\n",
        "\n",
        "# determining skewness of household size\n",
        "print('1. household_size skewness')\n",
        "print(finance_ds1['household_size'].skew())\n",
        "print('')\n",
        "print('')\n",
        "\n",
        "print('2. Respondent Age skewness')\n",
        "print(finance_ds1['Respondent Age'].skew())\n",
        "\n",
        "# Both are positive \n",
        "# Normal distribution is assumed."
      ],
      "metadata": {
        "colab": {
          "base_uri": "https://localhost:8080/"
        },
        "id": "xysOefu4MBMC",
        "outputId": "b33f12bc-1304-495a-aa12-256223a200af"
      },
      "execution_count": 119,
      "outputs": [
        {
          "output_type": "stream",
          "name": "stdout",
          "text": [
            "1. household_size skewness\n",
            "0.6110930989257479\n",
            "\n",
            "\n",
            "2. Respondent Age skewness\n",
            "0.7415098242614647\n"
          ]
        }
      ]
    },
    {
      "cell_type": "code",
      "source": [
        "# Kurtosis\n",
        "\n",
        "print('1. household_size kurtosis')\n",
        "print(finance_ds1['household_size'].kurt())\n",
        "print('')\n",
        "print('')\n",
        "\n",
        "print('2. Respondent Age kurtosis')\n",
        "print(finance_ds1['Respondent Age'].kurt())\n",
        "\n",
        "# Both are less than zero\n",
        "# The distribution is light tailed resulting in fewer extreme positive or negative events."
      ],
      "metadata": {
        "colab": {
          "base_uri": "https://localhost:8080/"
        },
        "id": "aablS8YYOZ_P",
        "outputId": "c285e92c-54f4-446b-ad48-37471c56e2d5"
      },
      "execution_count": 120,
      "outputs": [
        {
          "output_type": "stream",
          "name": "stdout",
          "text": [
            "1. household_size kurtosis\n",
            "-0.49635260958004856\n",
            "\n",
            "\n",
            "2. Respondent Age kurtosis\n",
            "-0.2323574017276666\n"
          ]
        }
      ]
    },
    {
      "cell_type": "markdown",
      "source": [
        "**Bivariate Analysis**"
      ],
      "metadata": {
        "id": "h-1xVOTWPhoK"
      }
    },
    {
      "cell_type": "markdown",
      "source": [
        "Categorical data"
      ],
      "metadata": {
        "id": "eNZDLP-8AS4c"
      }
    },
    {
      "cell_type": "code",
      "source": [
        "# Cell phone access Vs Has bank account.\n",
        "\n",
        "country = finance_ds1.groupby('Type of Job')['Has a Bank account'].value_counts(normalize=True).unstack()\n",
        "country.plot(kind='bar', figsize=(8, 6))\n",
        "plt.xticks(rotation=45, ha=\"right\")\n",
        "plt.title('Cell phone access vs has bank account', fontsize=14)\n",
        "plt.ylabel('Has Bank Account')\n",
        "plt.xlabel('Cell Phone Access')\n",
        "plt.show()\n",
        "\n",
        "# For most categories people do not have bank accounts.\n",
        "# Only people in formal employment have access to bank accounts."
      ],
      "metadata": {
        "colab": {
          "base_uri": "https://localhost:8080/",
          "height": 516
        },
        "id": "mzrcXPgvAWFS",
        "outputId": "6a758cdf-bfff-4881-ad07-c590416886cc"
      },
      "execution_count": 121,
      "outputs": [
        {
          "output_type": "display_data",
          "data": {
            "text/plain": [
              "<Figure size 576x432 with 1 Axes>"
            ],
            "image/png": "[encoded data removed]"
          },
          "metadata": {
            "needs_background": "light"
          }
        }
      ]
    },
    {
      "cell_type": "code",
      "source": [
        "country = finance_ds1.groupby('Level of Educuation')['Has a Bank account'].value_counts(normalize=True).unstack()\n",
        "country.plot(kind='bar', figsize=(8, 6))\n",
        "plt.xticks(rotation = 45)\n",
        "plt.title('Level of Education Vs Bank Accounts', fontsize=14, y=1.015)\n",
        "plt.ylabel('Has Bank Account')\n",
        "plt.xlabel('Level of Education')\n",
        "plt.show()"
      ],
      "metadata": {
        "colab": {
          "base_uri": "https://localhost:8080/",
          "height": 516
        },
        "id": "XeTiznpFCPc1",
        "outputId": "35fb4822-6760-492a-f0e5-a0495e75a878"
      },
      "execution_count": 122,
      "outputs": [
        {
          "output_type": "display_data",
          "data": {
            "text/plain": [
              "<Figure size 576x432 with 1 Axes>"
            ],
            "image/png": "[encoded data removed]"
          },
          "metadata": {
            "needs_background": "light"
          }
        }
      ]
    },
    {
      "cell_type": "code",
      "source": [
        "country = finance_ds1.groupby('marital_status')['Has a Bank account'].value_counts(normalize=True).unstack()\n",
        "country.plot(kind='bar', figsize=(8, 6), stacked=True)\n",
        "plt.xticks(rotation = 45)\n",
        "plt.title('Marital status and Individuals With Bank Accounts', fontsize=14, y=1.015)\n",
        "plt.ylabel('Has Bank Account', fontsize=14, labelpad=15)\n",
        "plt.xlabel('Marital Status', fontsize=14, labelpad=15)\n",
        "plt.show()\n",
        "\n",
        "# For all categories, most people do not have bank accounts."
      ],
      "metadata": {
        "colab": {
          "base_uri": "https://localhost:8080/",
          "height": 505
        },
        "id": "0tS2cdccDZdf",
        "outputId": "00b12756-956d-4808-a0d4-3b7e29fb2009"
      },
      "execution_count": 123,
      "outputs": [
        {
          "output_type": "display_data",
          "data": {
            "text/plain": [
              "<Figure size 576x432 with 1 Axes>"
            ],
            "image/png": "[encoded data removed]"
          },
          "metadata": {
            "needs_background": "light"
          }
        }
      ]
    },
    {
      "cell_type": "code",
      "source": [
        "country = finance_ds1.groupby('The relathip with head')['Has a Bank account'].value_counts(normalize=True).unstack()\n",
        "country.plot(kind='bar', figsize=(8, 6), stacked=False)\n",
        "plt.xticks(rotation = 45)\n",
        "plt.title('Persons relationship with head and their access to Bank Accounts', fontsize=14, y=1.015)\n",
        "plt.ylabel('Has Bank Account', fontsize=14, labelpad=15)\n",
        "plt.xlabel('Relationship With Head', fontsize=14, labelpad=15)\n",
        "plt.show()"
      ],
      "metadata": {
        "colab": {
          "base_uri": "https://localhost:8080/",
          "height": 490
        },
        "id": "BmAWXeZ2Ddj1",
        "outputId": "708f8626-6a67-4a76-df80-8668db979e42"
      },
      "execution_count": 124,
      "outputs": [
        {
          "output_type": "display_data",
          "data": {
            "text/plain": [
              "<Figure size 576x432 with 1 Axes>"
            ],
            "image/png": "[encoded data removed]"
          },
          "metadata": {
            "needs_background": "light"
          }
        }
      ]
    },
    {
      "cell_type": "code",
      "source": [
        "country = finance_ds1.groupby('gender_of_respondent')['Has a Bank account'].value_counts(normalize=True).unstack()\n",
        "country.plot(kind='bar', figsize=(8, 6), stacked=False)\n",
        "plt.xticks(rotation = 45)\n",
        "plt.title('Gender Vs Bank Accounts', fontsize=14, y=1.015)\n",
        "plt.ylabel('Has Bank Account', fontsize=14, labelpad=15)\n",
        "plt.xlabel('gender_of_respondent', fontsize=14, labelpad=15)\n",
        "plt.show()\n",
        "\n",
        "# More males have bank accounts than females."
      ],
      "metadata": {
        "colab": {
          "base_uri": "https://localhost:8080/",
          "height": 448
        },
        "id": "FstnKoFfDgDM",
        "outputId": "ba214f15-d6f5-4c62-a581-98fdab894402"
      },
      "execution_count": 125,
      "outputs": [
        {
          "output_type": "display_data",
          "data": {
            "text/plain": [
              "<Figure size 576x432 with 1 Axes>"
            ],
            "image/png": "[encoded data removed]"
          },
          "metadata": {
            "needs_background": "light"
          }
        }
      ]
    },
    {
      "cell_type": "code",
      "source": [
        "country = finance_ds1.groupby('Type of Location')['Has a Bank account'].value_counts(normalize=True).unstack()\n",
        "country.plot(kind='bar', figsize=(8, 6))\n",
        "plt.xticks(rotation = 45)\n",
        "plt.title('Persons with Bank Accounts per Type of Location', fontsize=14)\n",
        "plt.ylabel('Has Bank Account')\n",
        "plt.xlabel('Type of Location')\n",
        "plt.show()\n",
        "\n",
        "# More people have bank accounts in rural areas."
      ],
      "metadata": {
        "colab": {
          "base_uri": "https://localhost:8080/",
          "height": 424
        },
        "id": "dt1RwxKHDlme",
        "outputId": "9641d337-f842-4c53-919a-a9cd5ea49435"
      },
      "execution_count": 126,
      "outputs": [
        {
          "output_type": "display_data",
          "data": {
            "text/plain": [
              "<Figure size 576x432 with 1 Axes>"
            ],
            "image/png": "[encoded data removed]"
          },
          "metadata": {
            "needs_background": "light"
          }
        }
      ]
    },
    {
      "cell_type": "code",
      "source": [
        "country = finance_ds1.groupby('country')['Has a Bank account'].value_counts(normalize=True).unstack()\n",
        "country.plot(kind='bar', figsize=(8, 6), stacked=False)\n",
        "plt.xticks(rotation = 45)\n",
        "plt.title('People with Bank Accounts per Country', fontsize=14, y=1.015)\n",
        "plt.ylabel('Has Bank Account')\n",
        "plt.xlabel('Country')\n",
        "plt.show()\n",
        "\n",
        "# Kenya has the highest number of people with bank accounts.\n",
        "# Uganda has the highest number of people without bank accounts."
      ],
      "metadata": {
        "colab": {
          "base_uri": "https://localhost:8080/",
          "height": 438
        },
        "id": "IkUIKBKaDoSv",
        "outputId": "54824b31-cd2f-4bbd-dc2a-6fc19710d318"
      },
      "execution_count": 127,
      "outputs": [
        {
          "output_type": "display_data",
          "data": {
            "text/plain": [
              "<Figure size 576x432 with 1 Axes>"
            ],
            "image/png": "[encoded data removed]"
          },
          "metadata": {
            "needs_background": "light"
          }
        }
      ]
    },
    {
      "cell_type": "markdown",
      "source": [
        "Numerical data "
      ],
      "metadata": {
        "id": "4wBHLWsH4o-P"
      }
    },
    {
      "cell_type": "code",
      "source": [
        "# A scatter plot of Respondent Age vs Household size.\n",
        "\n",
        "finance_ds1.plot(x = 'Respondent Age', y ='household_size' , kind='scatter')\n",
        "plt.title(\"Respondent age vs household size\")\n",
        "\n",
        "# There is no correlation between the ages of the respondents and the household size."
      ],
      "metadata": {
        "colab": {
          "base_uri": "https://localhost:8080/",
          "height": 312
        },
        "id": "wH2-DaLx8HNj",
        "outputId": "1de3130d-fd81-40a5-9f99-ed5223e7c5f5"
      },
      "execution_count": 128,
      "outputs": [
        {
          "output_type": "execute_result",
          "data": {
            "text/plain": [
              "Text(0.5, 1.0, 'Respondent age vs household size')"
            ]
          },
          "metadata": {},
          "execution_count": 128
        },
        {
          "output_type": "display_data",
          "data": {
            "text/plain": [
              "<Figure size 432x288 with 1 Axes>"
            ],
            "image/png": "[encoded data removed]"
          },
          "metadata": {
            "needs_background": "light"
          }
        }
      ]
    },
    {
      "cell_type": "code",
      "source": [
        "# Pearson's correlation coefficient\n",
        "\n",
        "coeff = finance_ds1['Respondent Age'].corr(finance_ds1['household_size']) \n",
        "\n",
        "print(coeff)\n",
        "\n",
        "# There is an inverse correlation between age of respondents and the household size\n",
        "# Respondents age increases as the households size decreases and viceversa"
      ],
      "metadata": {
        "colab": {
          "base_uri": "https://localhost:8080/"
        },
        "id": "EuYu88PP8eOO",
        "outputId": "a45334d0-80bc-4608-f083-39404960b02a"
      },
      "execution_count": 129,
      "outputs": [
        {
          "output_type": "stream",
          "name": "stdout",
          "text": [
            "-0.1061185735392243\n"
          ]
        }
      ]
    },
    {
      "cell_type": "code",
      "source": [
        "#Correlation of the whole data set \n",
        "\n",
        "finance_ds1.corr()\n",
        "\n",
        "# This shows the correlation between different categories.\n",
        "# They are all negative correlations, they move in opposite directions and there is very little correlation."
      ],
      "metadata": {
        "colab": {
          "base_uri": "https://localhost:8080/",
          "height": 144
        },
        "id": "iW_66O2uFK4Q",
        "outputId": "effc2ef8-3fbd-45a5-f5a8-962cd1437e90"
      },
      "execution_count": 130,
      "outputs": [
        {
          "output_type": "execute_result",
          "data": {
            "text/plain": [
              "                    year  household_size  Respondent Age\n",
              "year            1.000000       -0.097359       -0.023993\n",
              "household_size -0.097359        1.000000       -0.106119\n",
              "Respondent Age -0.023993       -0.106119        1.000000"
            ],
            "text/html": [
              "\n",
              "  <div id=\"df-9dd68f07-17ee-44ba-bec5-fb522cded2e1\">\n",
              "    <div class=\"colab-df-container\">\n",
              "      <div>\n",
              "<style scoped>\n",
              "    .dataframe tbody tr th:only-of-type {\n",
              "        vertical-align: middle;\n",
              "    }\n",
              "\n",
              "    .dataframe tbody tr th {\n",
              "        vertical-align: top;\n",
              "    }\n",
              "\n",
              "    .dataframe thead th {\n",
              "        text-align: right;\n",
              "    }\n",
              "</style>\n",
              "<table border=\"1\" class=\"dataframe\">\n",
              "  <thead>\n",
              "    <tr style=\"text-align: right;\">\n",
              "      <th></th>\n",
              "      <th>year</th>\n",
              "      <th>household_size</th>\n",
              "      <th>Respondent Age</th>\n",
              "    </tr>\n",
              "  </thead>\n",
              "  <tbody>\n",
              "    <tr>\n",
              "      <th>year</th>\n",
              "      <td>1.000000</td>\n",
              "      <td>-0.097359</td>\n",
              "      <td>-0.023993</td>\n",
              "    </tr>\n",
              "    <tr>\n",
              "      <th>household_size</th>\n",
              "      <td>-0.097359</td>\n",
              "      <td>1.000000</td>\n",
              "      <td>-0.106119</td>\n",
              "    </tr>\n",
              "    <tr>\n",
              "      <th>Respondent Age</th>\n",
              "      <td>-0.023993</td>\n",
              "      <td>-0.106119</td>\n",
              "      <td>1.000000</td>\n",
              "    </tr>\n",
              "  </tbody>\n",
              "</table>\n",
              "</div>\n",
              "      <button class=\"colab-df-convert\" onclick=\"convertToInteractive('df-9dd68f07-17ee-44ba-bec5-fb522cded2e1')\"\n",
              "              title=\"Convert this dataframe to an interactive table.\"\n",
              "              style=\"display:none;\">\n",
              "        \n",
              "  <svg xmlns=\"http://www.w3.org/2000/svg\" height=\"24px\"viewBox=\"0 0 24 24\"\n",
              "       width=\"24px\">\n",
              "    <path d=\"M0 0h24v24H0V0z\" fill=\"none\"/>\n",
              "    <path d=\"M18.56 5.44l.94 2.06.94-2.06 2.06-.94-2.06-.94-.94-2.06-.94 2.06-2.06.94zm-11 1L8.5 8.5l.94-2.06 2.06-.94-2.06-.94L8.5 2.5l-.94 2.06-2.06.94zm10 10l.94 2.06.94-2.06 2.06-.94-2.06-.94-.94-2.06-.94 2.06-2.06.94z\"/><path d=\"M17.41 7.96l-1.37-1.37c-.4-.4-.92-.59-1.43-.59-.52 0-1.04.2-1.43.59L10.3 9.45l-7.72 7.72c-.78.78-.78 2.05 0 2.83L4 21.41c.39.39.9.59 1.41.59.51 0 1.02-.2 1.41-.59l7.78-7.78 2.81-2.81c.8-.78.8-2.07 0-2.86zM5.41 20L4 18.59l7.72-7.72 1.47 1.35L5.41 20z\"/>\n",
              "  </svg>\n",
              "      </button>\n",
              "      \n",
              "  <style>\n",
              "    .colab-df-container {\n",
              "      display:flex;\n",
              "      flex-wrap:wrap;\n",
              "      gap: 12px;\n",
              "    }\n",
              "\n",
              "    .colab-df-convert {\n",
              "      background-color: #E8F0FE;\n",
              "      border: none;\n",
              "      border-radius: 50%;\n",
              "      cursor: pointer;\n",
              "      display: none;\n",
              "      fill: #1967D2;\n",
              "      height: 32px;\n",
              "      padding: 0 0 0 0;\n",
              "      width: 32px;\n",
              "    }\n",
              "\n",
              "    .colab-df-convert:hover {\n",
              "      background-color: #E2EBFA;\n",
              "      box-shadow: 0px 1px 2px rgba(60, 64, 67, 0.3), 0px 1px 3px 1px rgba(60, 64, 67, 0.15);\n",
              "      fill: #174EA6;\n",
              "    }\n",
              "\n",
              "    [theme=dark] .colab-df-convert {\n",
              "      background-color: #3B4455;\n",
              "      fill: #D2E3FC;\n",
              "    }\n",
              "\n",
              "    [theme=dark] .colab-df-convert:hover {\n",
              "      background-color: #434B5C;\n",
              "      box-shadow: 0px 1px 3px 1px rgba(0, 0, 0, 0.15);\n",
              "      filter: drop-shadow(0px 1px 2px rgba(0, 0, 0, 0.3));\n",
              "      fill: #FFFFFF;\n",
              "    }\n",
              "  </style>\n",
              "\n",
              "      <script>\n",
              "        const buttonEl =\n",
              "          document.querySelector('#df-9dd68f07-17ee-44ba-bec5-fb522cded2e1 button.colab-df-convert');\n",
              "        buttonEl.style.display =\n",
              "          google.colab.kernel.accessAllowed ? 'block' : 'none';\n",
              "\n",
              "        async function convertToInteractive(key) {\n",
              "          const element = document.querySelector('#df-9dd68f07-17ee-44ba-bec5-fb522cded2e1');\n",
              "          const dataTable =\n",
              "            await google.colab.kernel.invokeFunction('convertToInteractive',\n",
              "                                                     [key], {});\n",
              "          if (!dataTable) return;\n",
              "\n",
              "          const docLinkHtml = 'Like what you see? Visit the ' +\n",
              "            '<a target=\"_blank\" href=https://colab.research.google.com/notebooks/data_table.ipynb>data table notebook</a>'\n",
              "            + ' to learn more about interactive tables.';\n",
              "          element.innerHTML = '';\n",
              "          dataTable['output_type'] = 'display_data';\n",
              "          await google.colab.output.renderOutput(dataTable, element);\n",
              "          const docLink = document.createElement('div');\n",
              "          docLink.innerHTML = docLinkHtml;\n",
              "          element.appendChild(docLink);\n",
              "        }\n",
              "      </script>\n",
              "    </div>\n",
              "  </div>\n",
              "  "
            ]
          },
          "metadata": {},
          "execution_count": 130
        }
      ]
    },
    {
      "cell_type": "markdown",
      "source": [
        "**Multi-variate Analysis**"
      ],
      "metadata": {
        "id": "jZK0QpJWOTGa"
      }
    },
    {
      "cell_type": "code",
      "source": [
        "# Relationship between level of education, country and bank account status\n",
        "\n",
        "country_education = pd.crosstab(index=[finance_ds1['Has a Bank account'],finance_ds1['country']], columns=finance_ds1['Level of Educuation'])\n",
        "country_education.loc[('Yes', slice(None)),:].plot(kind='bar', figsize=(12,10))\n",
        "plt.xticks([0,1,2,3], labels=['Kenya','Rwanda','Tanzania','Uganda'])\n",
        "plt.xlabel('Education per country')\n",
        "plt.ylabel('number with bank accounts')\n",
        "plt.title('Individuals with bank accounts')\n",
        "\n",
        "\n",
        "# In Kenya, the highest number of people have a secondary education.\n",
        "# In Rwanda this is people with a primary school education.\n",
        "# In Tanzania, this is people with a primary education followed closely with Tertiary education."
      ],
      "metadata": {
        "colab": {
          "base_uri": "https://localhost:8080/",
          "height": 672
        },
        "id": "Mf5UymF3OXgy",
        "outputId": "2d3ad51e-d80e-411b-f3cf-2e89852fbb45"
      },
      "execution_count": 131,
      "outputs": [
        {
          "output_type": "execute_result",
          "data": {
            "text/plain": [
              "Text(0.5, 1.0, 'Individuals with bank accounts')"
            ]
          },
          "metadata": {},
          "execution_count": 131
        },
        {
          "output_type": "display_data",
          "data": {
            "text/plain": [
              "<Figure size 864x720 with 1 Axes>"
            ],
            "image/png": "[encoded data removed]"
          },
          "metadata": {
            "needs_background": "light"
          }
        }
      ]
    },
    {
      "cell_type": "markdown",
      "source": [
        "Linear Discriminant Analysis"
      ],
      "metadata": {
        "id": "0J_FjTw7f_8z"
      }
    },
    {
      "cell_type": "code",
      "source": [
        "# creating and using dummies for this section.\n",
        "finance_dummy = pd.get_dummies(finance_ds1[['country', 'Type of Location', 'Cell Phone Access', 'gender_of_respondent','The relathip with head', 'marital_status', 'Level of Educuation', 'Type of Job']])\n",
        "finance_dummy.head(4)"
      ],
      "metadata": {
        "colab": {
          "base_uri": "https://localhost:8080/",
          "height": 320
        },
        "id": "xiZek8nrgEW2",
        "outputId": "329f6fc4-3dbc-47a4-d3c0-fe1004fb64c3"
      },
      "execution_count": 132,
      "outputs": [
        {
          "output_type": "execute_result",
          "data": {
            "text/plain": [
              "   country_Kenya  country_Rwanda  country_Tanzania  country_Uganda  \\\n",
              "0              1               0                 0               0   \n",
              "1              1               0                 0               0   \n",
              "2              1               0                 0               0   \n",
              "3              1               0                 0               0   \n",
              "\n",
              "   Type of Location_Rural  Type of Location_Urban  Cell Phone Access_No  \\\n",
              "0                       1                       0                     0   \n",
              "1                       1                       0                     1   \n",
              "2                       0                       1                     0   \n",
              "3                       1                       0                     0   \n",
              "\n",
              "   Cell Phone Access_Yes  gender_of_respondent_Female  \\\n",
              "0                      1                            1   \n",
              "1                      0                            1   \n",
              "2                      1                            0   \n",
              "3                      1                            1   \n",
              "\n",
              "   gender_of_respondent_Male  ...  Type of Job_Dont Know/Refuse to answer  \\\n",
              "0                          0  ...                                       0   \n",
              "1                          0  ...                                       0   \n",
              "2                          1  ...                                       0   \n",
              "3                          0  ...                                       0   \n",
              "\n",
              "   Type of Job_Farming and Fishing  Type of Job_Formally employed Government  \\\n",
              "0                                0                                         0   \n",
              "1                                0                                         0   \n",
              "2                                0                                         0   \n",
              "3                                0                                         0   \n",
              "\n",
              "   Type of Job_Formally employed Private  Type of Job_Government Dependent  \\\n",
              "0                                      0                                 0   \n",
              "1                                      0                                 1   \n",
              "2                                      0                                 0   \n",
              "3                                      1                                 0   \n",
              "\n",
              "   Type of Job_Informally employed  Type of Job_No Income  \\\n",
              "0                                0                      0   \n",
              "1                                0                      0   \n",
              "2                                0                      0   \n",
              "3                                0                      0   \n",
              "\n",
              "   Type of Job_Other Income  Type of Job_Remittance Dependent  \\\n",
              "0                         0                                 0   \n",
              "1                         0                                 0   \n",
              "2                         0                                 0   \n",
              "3                         0                                 0   \n",
              "\n",
              "   Type of Job_Self employed  \n",
              "0                          1  \n",
              "1                          0  \n",
              "2                          1  \n",
              "3                          0  \n",
              "\n",
              "[4 rows x 38 columns]"
            ],
            "text/html": [
              "\n",
              "  <div id=\"df-a8e706fe-d6f6-4f2b-8c28-4e33a1049385\">\n",
              "    <div class=\"colab-df-container\">\n",
              "      <div>\n",
              "<style scoped>\n",
              "    .dataframe tbody tr th:only-of-type {\n",
              "        vertical-align: middle;\n",
              "    }\n",
              "\n",
              "    .dataframe tbody tr th {\n",
              "        vertical-align: top;\n",
              "    }\n",
              "\n",
              "    .dataframe thead th {\n",
              "        text-align: right;\n",
              "    }\n",
              "</style>\n",
              "<table border=\"1\" class=\"dataframe\">\n",
              "  <thead>\n",
              "    <tr style=\"text-align: right;\">\n",
              "      <th></th>\n",
              "      <th>country_Kenya</th>\n",
              "      <th>country_Rwanda</th>\n",
              "      <th>country_Tanzania</th>\n",
              "      <th>country_Uganda</th>\n",
              "      <th>Type of Location_Rural</th>\n",
              "      <th>Type of Location_Urban</th>\n",
              "      <th>Cell Phone Access_No</th>\n",
              "      <th>Cell Phone Access_Yes</th>\n",
              "      <th>gender_of_respondent_Female</th>\n",
              "      <th>gender_of_respondent_Male</th>\n",
              "      <th>...</th>\n",
              "      <th>Type of Job_Dont Know/Refuse to answer</th>\n",
              "      <th>Type of Job_Farming and Fishing</th>\n",
              "      <th>Type of Job_Formally employed Government</th>\n",
              "      <th>Type of Job_Formally employed Private</th>\n",
              "      <th>Type of Job_Government Dependent</th>\n",
              "      <th>Type of Job_Informally employed</th>\n",
              "      <th>Type of Job_No Income</th>\n",
              "      <th>Type of Job_Other Income</th>\n",
              "      <th>Type of Job_Remittance Dependent</th>\n",
              "      <th>Type of Job_Self employed</th>\n",
              "    </tr>\n",
              "  </thead>\n",
              "  <tbody>\n",
              "    <tr>\n",
              "      <th>0</th>\n",
              "      <td>1</td>\n",
              "      <td>0</td>\n",
              "      <td>0</td>\n",
              "      <td>0</td>\n",
              "      <td>1</td>\n",
              "      <td>0</td>\n",
              "      <td>0</td>\n",
              "      <td>1</td>\n",
              "      <td>1</td>\n",
              "      <td>0</td>\n",
              "      <td>...</td>\n",
              "      <td>0</td>\n",
              "      <td>0</td>\n",
              "      <td>0</td>\n",
              "      <td>0</td>\n",
              "      <td>0</td>\n",
              "      <td>0</td>\n",
              "      <td>0</td>\n",
              "      <td>0</td>\n",
              "      <td>0</td>\n",
              "      <td>1</td>\n",
              "    </tr>\n",
              "    <tr>\n",
              "      <th>1</th>\n",
              "      <td>1</td>\n",
              "      <td>0</td>\n",
              "      <td>0</td>\n",
              "      <td>0</td>\n",
              "      <td>1</td>\n",
              "      <td>0</td>\n",
              "      <td>1</td>\n",
              "      <td>0</td>\n",
              "      <td>1</td>\n",
              "      <td>0</td>\n",
              "      <td>...</td>\n",
              "      <td>0</td>\n",
              "      <td>0</td>\n",
              "      <td>0</td>\n",
              "      <td>0</td>\n",
              "      <td>1</td>\n",
              "      <td>0</td>\n",
              "      <td>0</td>\n",
              "      <td>0</td>\n",
              "      <td>0</td>\n",
              "      <td>0</td>\n",
              "    </tr>\n",
              "    <tr>\n",
              "      <th>2</th>\n",
              "      <td>1</td>\n",
              "      <td>0</td>\n",
              "      <td>0</td>\n",
              "      <td>0</td>\n",
              "      <td>0</td>\n",
              "      <td>1</td>\n",
              "      <td>0</td>\n",
              "      <td>1</td>\n",
              "      <td>0</td>\n",
              "      <td>1</td>\n",
              "      <td>...</td>\n",
              "      <td>0</td>\n",
              "      <td>0</td>\n",
              "      <td>0</td>\n",
              "      <td>0</td>\n",
              "      <td>0</td>\n",
              "      <td>0</td>\n",
              "      <td>0</td>\n",
              "      <td>0</td>\n",
              "      <td>0</td>\n",
              "      <td>1</td>\n",
              "    </tr>\n",
              "    <tr>\n",
              "      <th>3</th>\n",
              "      <td>1</td>\n",
              "      <td>0</td>\n",
              "      <td>0</td>\n",
              "      <td>0</td>\n",
              "      <td>1</td>\n",
              "      <td>0</td>\n",
              "      <td>0</td>\n",
              "      <td>1</td>\n",
              "      <td>1</td>\n",
              "      <td>0</td>\n",
              "      <td>...</td>\n",
              "      <td>0</td>\n",
              "      <td>0</td>\n",
              "      <td>0</td>\n",
              "      <td>1</td>\n",
              "      <td>0</td>\n",
              "      <td>0</td>\n",
              "      <td>0</td>\n",
              "      <td>0</td>\n",
              "      <td>0</td>\n",
              "      <td>0</td>\n",
              "    </tr>\n",
              "  </tbody>\n",
              "</table>\n",
              "<p>4 rows × 38 columns</p>\n",
              "</div>\n",
              "      <button class=\"colab-df-convert\" onclick=\"convertToInteractive('df-a8e706fe-d6f6-4f2b-8c28-4e33a1049385')\"\n",
              "              title=\"Convert this dataframe to an interactive table.\"\n",
              "              style=\"display:none;\">\n",
              "        \n",
              "  <svg xmlns=\"http://www.w3.org/2000/svg\" height=\"24px\"viewBox=\"0 0 24 24\"\n",
              "       width=\"24px\">\n",
              "    <path d=\"M0 0h24v24H0V0z\" fill=\"none\"/>\n",
              "    <path d=\"M18.56 5.44l.94 2.06.94-2.06 2.06-.94-2.06-.94-.94-2.06-.94 2.06-2.06.94zm-11 1L8.5 8.5l.94-2.06 2.06-.94-2.06-.94L8.5 2.5l-.94 2.06-2.06.94zm10 10l.94 2.06.94-2.06 2.06-.94-2.06-.94-.94-2.06-.94 2.06-2.06.94z\"/><path d=\"M17.41 7.96l-1.37-1.37c-.4-.4-.92-.59-1.43-.59-.52 0-1.04.2-1.43.59L10.3 9.45l-7.72 7.72c-.78.78-.78 2.05 0 2.83L4 21.41c.39.39.9.59 1.41.59.51 0 1.02-.2 1.41-.59l7.78-7.78 2.81-2.81c.8-.78.8-2.07 0-2.86zM5.41 20L4 18.59l7.72-7.72 1.47 1.35L5.41 20z\"/>\n",
              "  </svg>\n",
              "      </button>\n",
              "      \n",
              "  <style>\n",
              "    .colab-df-container {\n",
              "      display:flex;\n",
              "      flex-wrap:wrap;\n",
              "      gap: 12px;\n",
              "    }\n",
              "\n",
              "    .colab-df-convert {\n",
              "      background-color: #E8F0FE;\n",
              "      border: none;\n",
              "      border-radius: 50%;\n",
              "      cursor: pointer;\n",
              "      display: none;\n",
              "      fill: #1967D2;\n",
              "      height: 32px;\n",
              "      padding: 0 0 0 0;\n",
              "      width: 32px;\n",
              "    }\n",
              "\n",
              "    .colab-df-convert:hover {\n",
              "      background-color: #E2EBFA;\n",
              "      box-shadow: 0px 1px 2px rgba(60, 64, 67, 0.3), 0px 1px 3px 1px rgba(60, 64, 67, 0.15);\n",
              "      fill: #174EA6;\n",
              "    }\n",
              "\n",
              "    [theme=dark] .colab-df-convert {\n",
              "      background-color: #3B4455;\n",
              "      fill: #D2E3FC;\n",
              "    }\n",
              "\n",
              "    [theme=dark] .colab-df-convert:hover {\n",
              "      background-color: #434B5C;\n",
              "      box-shadow: 0px 1px 3px 1px rgba(0, 0, 0, 0.15);\n",
              "      filter: drop-shadow(0px 1px 2px rgba(0, 0, 0, 0.3));\n",
              "      fill: #FFFFFF;\n",
              "    }\n",
              "  </style>\n",
              "\n",
              "      <script>\n",
              "        const buttonEl =\n",
              "          document.querySelector('#df-a8e706fe-d6f6-4f2b-8c28-4e33a1049385 button.colab-df-convert');\n",
              "        buttonEl.style.display =\n",
              "          google.colab.kernel.accessAllowed ? 'block' : 'none';\n",
              "\n",
              "        async function convertToInteractive(key) {\n",
              "          const element = document.querySelector('#df-a8e706fe-d6f6-4f2b-8c28-4e33a1049385');\n",
              "          const dataTable =\n",
              "            await google.colab.kernel.invokeFunction('convertToInteractive',\n",
              "                                                     [key], {});\n",
              "          if (!dataTable) return;\n",
              "\n",
              "          const docLinkHtml = 'Like what you see? Visit the ' +\n",
              "            '<a target=\"_blank\" href=https://colab.research.google.com/notebooks/data_table.ipynb>data table notebook</a>'\n",
              "            + ' to learn more about interactive tables.';\n",
              "          element.innerHTML = '';\n",
              "          dataTable['output_type'] = 'display_data';\n",
              "          await google.colab.output.renderOutput(dataTable, element);\n",
              "          const docLink = document.createElement('div');\n",
              "          docLink.innerHTML = docLinkHtml;\n",
              "          element.appendChild(docLink);\n",
              "        }\n",
              "      </script>\n",
              "    </div>\n",
              "  </div>\n",
              "  "
            ]
          },
          "metadata": {},
          "execution_count": 132
        }
      ]
    },
    {
      "cell_type": "code",
      "source": [
        "#for comparison purposes wth the initial dataset, we will concatnate the two datarames\n",
        "new = pd.concat([finance_ds1, finance_dummy], axis = 1)\n",
        "new.head()"
      ],
      "metadata": {
        "colab": {
          "base_uri": "https://localhost:8080/",
          "height": 404
        },
        "id": "FDRO3s-snjJp",
        "outputId": "107c8167-1a3b-4699-a78b-5537033f9b14"
      },
      "execution_count": 133,
      "outputs": [
        {
          "output_type": "execute_result",
          "data": {
            "text/plain": [
              "  country  year    uniqueid Has a Bank account Type of Location  \\\n",
              "0   Kenya  2018  uniqueid_1                Yes            Rural   \n",
              "1   Kenya  2018  uniqueid_2                 No            Rural   \n",
              "2   Kenya  2018  uniqueid_3                Yes            Urban   \n",
              "3   Kenya  2018  uniqueid_4                 No            Rural   \n",
              "4   Kenya  2018  uniqueid_5                 No            Urban   \n",
              "\n",
              "  Cell Phone Access  household_size  Respondent Age gender_of_respondent  \\\n",
              "0               Yes             3.0            24.0               Female   \n",
              "1                No             5.0            70.0               Female   \n",
              "2               Yes             5.0            26.0                 Male   \n",
              "3               Yes             5.0            34.0               Female   \n",
              "4                No             8.0            26.0                 Male   \n",
              "\n",
              "  The relathip with head  ... Type of Job_Dont Know/Refuse to answer  \\\n",
              "0                 Spouse  ...                                      0   \n",
              "1      Head of Household  ...                                      0   \n",
              "2         Other relative  ...                                      0   \n",
              "3      Head of Household  ...                                      0   \n",
              "4                  Child  ...                                      0   \n",
              "\n",
              "  Type of Job_Farming and Fishing Type of Job_Formally employed Government  \\\n",
              "0                               0                                        0   \n",
              "1                               0                                        0   \n",
              "2                               0                                        0   \n",
              "3                               0                                        0   \n",
              "4                               0                                        0   \n",
              "\n",
              "   Type of Job_Formally employed Private  Type of Job_Government Dependent  \\\n",
              "0                                      0                                 0   \n",
              "1                                      0                                 1   \n",
              "2                                      0                                 0   \n",
              "3                                      1                                 0   \n",
              "4                                      0                                 0   \n",
              "\n",
              "   Type of Job_Informally employed  Type of Job_No Income  \\\n",
              "0                                0                      0   \n",
              "1                                0                      0   \n",
              "2                                0                      0   \n",
              "3                                0                      0   \n",
              "4                                1                      0   \n",
              "\n",
              "   Type of Job_Other Income  Type of Job_Remittance Dependent  \\\n",
              "0                         0                                 0   \n",
              "1                         0                                 0   \n",
              "2                         0                                 0   \n",
              "3                         0                                 0   \n",
              "4                         0                                 0   \n",
              "\n",
              "   Type of Job_Self employed  \n",
              "0                          1  \n",
              "1                          0  \n",
              "2                          1  \n",
              "3                          0  \n",
              "4                          0  \n",
              "\n",
              "[5 rows x 51 columns]"
            ],
            "text/html": [
              "\n",
              "  <div id=\"df-6185baff-2a94-405e-a652-79f0ef4aa085\">\n",
              "    <div class=\"colab-df-container\">\n",
              "      <div>\n",
              "<style scoped>\n",
              "    .dataframe tbody tr th:only-of-type {\n",
              "        vertical-align: middle;\n",
              "    }\n",
              "\n",
              "    .dataframe tbody tr th {\n",
              "        vertical-align: top;\n",
              "    }\n",
              "\n",
              "    .dataframe thead th {\n",
              "        text-align: right;\n",
              "    }\n",
              "</style>\n",
              "<table border=\"1\" class=\"dataframe\">\n",
              "  <thead>\n",
              "    <tr style=\"text-align: right;\">\n",
              "      <th></th>\n",
              "      <th>country</th>\n",
              "      <th>year</th>\n",
              "      <th>uniqueid</th>\n",
              "      <th>Has a Bank account</th>\n",
              "      <th>Type of Location</th>\n",
              "      <th>Cell Phone Access</th>\n",
              "      <th>household_size</th>\n",
              "      <th>Respondent Age</th>\n",
              "      <th>gender_of_respondent</th>\n",
              "      <th>The relathip with head</th>\n",
              "      <th>...</th>\n",
              "      <th>Type of Job_Dont Know/Refuse to answer</th>\n",
              "      <th>Type of Job_Farming and Fishing</th>\n",
              "      <th>Type of Job_Formally employed Government</th>\n",
              "      <th>Type of Job_Formally employed Private</th>\n",
              "      <th>Type of Job_Government Dependent</th>\n",
              "      <th>Type of Job_Informally employed</th>\n",
              "      <th>Type of Job_No Income</th>\n",
              "      <th>Type of Job_Other Income</th>\n",
              "      <th>Type of Job_Remittance Dependent</th>\n",
              "      <th>Type of Job_Self employed</th>\n",
              "    </tr>\n",
              "  </thead>\n",
              "  <tbody>\n",
              "    <tr>\n",
              "      <th>0</th>\n",
              "      <td>Kenya</td>\n",
              "      <td>2018</td>\n",
              "      <td>uniqueid_1</td>\n",
              "      <td>Yes</td>\n",
              "      <td>Rural</td>\n",
              "      <td>Yes</td>\n",
              "      <td>3.0</td>\n",
              "      <td>24.0</td>\n",
              "      <td>Female</td>\n",
              "      <td>Spouse</td>\n",
              "      <td>...</td>\n",
              "      <td>0</td>\n",
              "      <td>0</td>\n",
              "      <td>0</td>\n",
              "      <td>0</td>\n",
              "      <td>0</td>\n",
              "      <td>0</td>\n",
              "      <td>0</td>\n",
              "      <td>0</td>\n",
              "      <td>0</td>\n",
              "      <td>1</td>\n",
              "    </tr>\n",
              "    <tr>\n",
              "      <th>1</th>\n",
              "      <td>Kenya</td>\n",
              "      <td>2018</td>\n",
              "      <td>uniqueid_2</td>\n",
              "      <td>No</td>\n",
              "      <td>Rural</td>\n",
              "      <td>No</td>\n",
              "      <td>5.0</td>\n",
              "      <td>70.0</td>\n",
              "      <td>Female</td>\n",
              "      <td>Head of Household</td>\n",
              "      <td>...</td>\n",
              "      <td>0</td>\n",
              "      <td>0</td>\n",
              "      <td>0</td>\n",
              "      <td>0</td>\n",
              "      <td>1</td>\n",
              "      <td>0</td>\n",
              "      <td>0</td>\n",
              "      <td>0</td>\n",
              "      <td>0</td>\n",
              "      <td>0</td>\n",
              "    </tr>\n",
              "    <tr>\n",
              "      <th>2</th>\n",
              "      <td>Kenya</td>\n",
              "      <td>2018</td>\n",
              "      <td>uniqueid_3</td>\n",
              "      <td>Yes</td>\n",
              "      <td>Urban</td>\n",
              "      <td>Yes</td>\n",
              "      <td>5.0</td>\n",
              "      <td>26.0</td>\n",
              "      <td>Male</td>\n",
              "      <td>Other relative</td>\n",
              "      <td>...</td>\n",
              "      <td>0</td>\n",
              "      <td>0</td>\n",
              "      <td>0</td>\n",
              "      <td>0</td>\n",
              "      <td>0</td>\n",
              "      <td>0</td>\n",
              "      <td>0</td>\n",
              "      <td>0</td>\n",
              "      <td>0</td>\n",
              "      <td>1</td>\n",
              "    </tr>\n",
              "    <tr>\n",
              "      <th>3</th>\n",
              "      <td>Kenya</td>\n",
              "      <td>2018</td>\n",
              "      <td>uniqueid_4</td>\n",
              "      <td>No</td>\n",
              "      <td>Rural</td>\n",
              "      <td>Yes</td>\n",
              "      <td>5.0</td>\n",
              "      <td>34.0</td>\n",
              "      <td>Female</td>\n",
              "      <td>Head of Household</td>\n",
              "      <td>...</td>\n",
              "      <td>0</td>\n",
              "      <td>0</td>\n",
              "      <td>0</td>\n",
              "      <td>1</td>\n",
              "      <td>0</td>\n",
              "      <td>0</td>\n",
              "      <td>0</td>\n",
              "      <td>0</td>\n",
              "      <td>0</td>\n",
              "      <td>0</td>\n",
              "    </tr>\n",
              "    <tr>\n",
              "      <th>4</th>\n",
              "      <td>Kenya</td>\n",
              "      <td>2018</td>\n",
              "      <td>uniqueid_5</td>\n",
              "      <td>No</td>\n",
              "      <td>Urban</td>\n",
              "      <td>No</td>\n",
              "      <td>8.0</td>\n",
              "      <td>26.0</td>\n",
              "      <td>Male</td>\n",
              "      <td>Child</td>\n",
              "      <td>...</td>\n",
              "      <td>0</td>\n",
              "      <td>0</td>\n",
              "      <td>0</td>\n",
              "      <td>0</td>\n",
              "      <td>0</td>\n",
              "      <td>1</td>\n",
              "      <td>0</td>\n",
              "      <td>0</td>\n",
              "      <td>0</td>\n",
              "      <td>0</td>\n",
              "    </tr>\n",
              "  </tbody>\n",
              "</table>\n",
              "<p>5 rows × 51 columns</p>\n",
              "</div>\n",
              "      <button class=\"colab-df-convert\" onclick=\"convertToInteractive('df-6185baff-2a94-405e-a652-79f0ef4aa085')\"\n",
              "              title=\"Convert this dataframe to an interactive table.\"\n",
              "              style=\"display:none;\">\n",
              "        \n",
              "  <svg xmlns=\"http://www.w3.org/2000/svg\" height=\"24px\"viewBox=\"0 0 24 24\"\n",
              "       width=\"24px\">\n",
              "    <path d=\"M0 0h24v24H0V0z\" fill=\"none\"/>\n",
              "    <path d=\"M18.56 5.44l.94 2.06.94-2.06 2.06-.94-2.06-.94-.94-2.06-.94 2.06-2.06.94zm-11 1L8.5 8.5l.94-2.06 2.06-.94-2.06-.94L8.5 2.5l-.94 2.06-2.06.94zm10 10l.94 2.06.94-2.06 2.06-.94-2.06-.94-.94-2.06-.94 2.06-2.06.94z\"/><path d=\"M17.41 7.96l-1.37-1.37c-.4-.4-.92-.59-1.43-.59-.52 0-1.04.2-1.43.59L10.3 9.45l-7.72 7.72c-.78.78-.78 2.05 0 2.83L4 21.41c.39.39.9.59 1.41.59.51 0 1.02-.2 1.41-.59l7.78-7.78 2.81-2.81c.8-.78.8-2.07 0-2.86zM5.41 20L4 18.59l7.72-7.72 1.47 1.35L5.41 20z\"/>\n",
              "  </svg>\n",
              "      </button>\n",
              "      \n",
              "  <style>\n",
              "    .colab-df-container {\n",
              "      display:flex;\n",
              "      flex-wrap:wrap;\n",
              "      gap: 12px;\n",
              "    }\n",
              "\n",
              "    .colab-df-convert {\n",
              "      background-color: #E8F0FE;\n",
              "      border: none;\n",
              "      border-radius: 50%;\n",
              "      cursor: pointer;\n",
              "      display: none;\n",
              "      fill: #1967D2;\n",
              "      height: 32px;\n",
              "      padding: 0 0 0 0;\n",
              "      width: 32px;\n",
              "    }\n",
              "\n",
              "    .colab-df-convert:hover {\n",
              "      background-color: #E2EBFA;\n",
              "      box-shadow: 0px 1px 2px rgba(60, 64, 67, 0.3), 0px 1px 3px 1px rgba(60, 64, 67, 0.15);\n",
              "      fill: #174EA6;\n",
              "    }\n",
              "\n",
              "    [theme=dark] .colab-df-convert {\n",
              "      background-color: #3B4455;\n",
              "      fill: #D2E3FC;\n",
              "    }\n",
              "\n",
              "    [theme=dark] .colab-df-convert:hover {\n",
              "      background-color: #434B5C;\n",
              "      box-shadow: 0px 1px 3px 1px rgba(0, 0, 0, 0.15);\n",
              "      filter: drop-shadow(0px 1px 2px rgba(0, 0, 0, 0.3));\n",
              "      fill: #FFFFFF;\n",
              "    }\n",
              "  </style>\n",
              "\n",
              "      <script>\n",
              "        const buttonEl =\n",
              "          document.querySelector('#df-6185baff-2a94-405e-a652-79f0ef4aa085 button.colab-df-convert');\n",
              "        buttonEl.style.display =\n",
              "          google.colab.kernel.accessAllowed ? 'block' : 'none';\n",
              "\n",
              "        async function convertToInteractive(key) {\n",
              "          const element = document.querySelector('#df-6185baff-2a94-405e-a652-79f0ef4aa085');\n",
              "          const dataTable =\n",
              "            await google.colab.kernel.invokeFunction('convertToInteractive',\n",
              "                                                     [key], {});\n",
              "          if (!dataTable) return;\n",
              "\n",
              "          const docLinkHtml = 'Like what you see? Visit the ' +\n",
              "            '<a target=\"_blank\" href=https://colab.research.google.com/notebooks/data_table.ipynb>data table notebook</a>'\n",
              "            + ' to learn more about interactive tables.';\n",
              "          element.innerHTML = '';\n",
              "          dataTable['output_type'] = 'display_data';\n",
              "          await google.colab.output.renderOutput(dataTable, element);\n",
              "          const docLink = document.createElement('div');\n",
              "          docLink.innerHTML = docLinkHtml;\n",
              "          element.appendChild(docLink);\n",
              "        }\n",
              "      </script>\n",
              "    </div>\n",
              "  </div>\n",
              "  "
            ]
          },
          "metadata": {},
          "execution_count": 133
        }
      ]
    },
    {
      "cell_type": "code",
      "source": [
        "# Divide the dataset into features (w) and corresponding labels (x)\n",
        "# The i proceed to divide the resultant dataset into test and training sets\n",
        "\n",
        "w = new.iloc[:, 12:].values\n",
        "x = new.iloc[:, 2].values\n",
        "print(w)\n",
        "print(x)"
      ],
      "metadata": {
        "colab": {
          "base_uri": "https://localhost:8080/"
        },
        "id": "g-snGPW_n5SO",
        "outputId": "da8b78e2-d3f5-4d64-c134-2aa87134a202"
      },
      "execution_count": 134,
      "outputs": [
        {
          "output_type": "stream",
          "name": "stdout",
          "text": [
            "[['Self employed' 1 0 ... 0 0 1]\n",
            " ['Government Dependent' 1 0 ... 0 0 0]\n",
            " ['Self employed' 1 0 ... 0 0 1]\n",
            " ...\n",
            " ['Other Income' 0 0 ... 1 0 0]\n",
            " ['Other Income' 0 0 ... 1 0 0]\n",
            " ['Self employed' 0 0 ... 0 0 1]]\n",
            "['uniqueid_1' 'uniqueid_2' 'uniqueid_3' ... 'uniqueid_2114'\n",
            " 'uniqueid_2115' 'uniqueid_2116']\n"
          ]
        }
      ]
    },
    {
      "cell_type": "code",
      "source": [
        "# Divide the data into training and test sets\n",
        "#\n",
        "from sklearn.model_selection import train_test_split\n",
        "\n",
        "w_train, w_test, x_train, x_test = train_test_split(w, x, test_size=0.2, random_state=0)"
      ],
      "metadata": {
        "id": "N4CURsM1obIQ"
      },
      "execution_count": 135,
      "outputs": []
    },
    {
      "cell_type": "markdown",
      "source": [
        "**Outcome Summary**"
      ],
      "metadata": {
        "id": "ylZBDrgccIle"
      }
    },
    {
      "cell_type": "markdown",
      "source": [
        "There are more individuals without a bank account(85%).\n",
        "\n",
        "The Type of education one has an impact on one having a bank account. in all countries those with primary education, had no bank accounts."
      ],
      "metadata": {
        "id": "sZSVIyYtcQYl"
      }
    },
    {
      "cell_type": "markdown",
      "source": [
        "**Challenging the Solution**"
      ],
      "metadata": {
        "id": "UTRBo9V1cb_4"
      }
    },
    {
      "cell_type": "markdown",
      "source": [
        "To get further relationshps between categorical data or perfom further analysis."
      ],
      "metadata": {
        "id": "Jvuz4xPncsCS"
      }
    }
  ]
}